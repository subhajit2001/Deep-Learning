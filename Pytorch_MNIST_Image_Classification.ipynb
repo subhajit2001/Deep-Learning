{
  "nbformat": 4,
  "nbformat_minor": 0,
  "metadata": {
    "colab": {
      "provenance": [],
      "authorship_tag": "ABX9TyONUhnm3VswGsJze48pSMni",
      "include_colab_link": true
    },
    "kernelspec": {
      "name": "python3",
      "display_name": "Python 3"
    },
    "language_info": {
      "name": "python"
    }
  },
  "cells": [
    {
      "cell_type": "markdown",
      "metadata": {
        "id": "view-in-github",
        "colab_type": "text"
      },
      "source": [
        "<a href=\"https://colab.research.google.com/github/subhajit2001/Deep-Learning/blob/main/Pytorch_MNIST_Image_Classification.ipynb\" target=\"_parent\"><img src=\"https://colab.research.google.com/assets/colab-badge.svg\" alt=\"Open In Colab\"/></a>"
      ]
    },
    {
      "cell_type": "markdown",
      "source": [
        "#### Importing the necessary Libraries\n",
        "\n",
        "* Packages used : Pytorch, Matplotlib\n",
        "* Dataset used : MNIST"
      ],
      "metadata": {
        "id": "JaN-fUISpo0C"
      }
    },
    {
      "cell_type": "code",
      "execution_count": 2,
      "metadata": {
        "id": "t1sLLMp8YiZw"
      },
      "outputs": [],
      "source": [
        "import torch\n",
        "import torchvision\n",
        "from torchvision.datasets import MNIST\n",
        "import matplotlib.pyplot as plt\n",
        "%matplotlib inline\n",
        "import torchvision.transforms as transforms\n",
        "from torch.utils.data import random_split, DataLoader\n",
        "import torch.nn as nn\n",
        "import torch.nn.functional as F"
      ]
    },
    {
      "cell_type": "markdown",
      "source": [
        "\n",
        "\n",
        "---\n",
        "\n"
      ],
      "metadata": {
        "id": "hjIrt71Jso6u"
      }
    },
    {
      "cell_type": "markdown",
      "source": [
        "#### Loading the dataset\n",
        "\n",
        "Downloading the MNIST dataset from **torchvision.datasets** preset library and loading the dataset into a root disk folder 'data'"
      ],
      "metadata": {
        "id": "yF94ckZdqBDZ"
      }
    },
    {
      "cell_type": "code",
      "source": [
        "dataset = MNIST(root='data/', download=True)"
      ],
      "metadata": {
        "colab": {
          "base_uri": "https://localhost:8080/",
          "height": 0
        },
        "id": "6bisf6MEkHPW",
        "outputId": "e7652910-ef0e-4209-e30d-ff47ac388f9b"
      },
      "execution_count": 3,
      "outputs": [
        {
          "output_type": "stream",
          "name": "stdout",
          "text": [
            "Downloading http://yann.lecun.com/exdb/mnist/train-images-idx3-ubyte.gz\n",
            "Failed to download (trying next):\n",
            "HTTP Error 403: Forbidden\n",
            "\n",
            "Downloading https://ossci-datasets.s3.amazonaws.com/mnist/train-images-idx3-ubyte.gz\n",
            "Downloading https://ossci-datasets.s3.amazonaws.com/mnist/train-images-idx3-ubyte.gz to data/MNIST/raw/train-images-idx3-ubyte.gz\n"
          ]
        },
        {
          "output_type": "stream",
          "name": "stderr",
          "text": [
            "100%|██████████| 9912422/9912422 [00:00<00:00, 15834795.06it/s]\n"
          ]
        },
        {
          "output_type": "stream",
          "name": "stdout",
          "text": [
            "Extracting data/MNIST/raw/train-images-idx3-ubyte.gz to data/MNIST/raw\n",
            "\n",
            "Downloading http://yann.lecun.com/exdb/mnist/train-labels-idx1-ubyte.gz\n",
            "Failed to download (trying next):\n",
            "HTTP Error 403: Forbidden\n",
            "\n",
            "Downloading https://ossci-datasets.s3.amazonaws.com/mnist/train-labels-idx1-ubyte.gz\n",
            "Downloading https://ossci-datasets.s3.amazonaws.com/mnist/train-labels-idx1-ubyte.gz to data/MNIST/raw/train-labels-idx1-ubyte.gz\n"
          ]
        },
        {
          "output_type": "stream",
          "name": "stderr",
          "text": [
            "100%|██████████| 28881/28881 [00:00<00:00, 484843.38it/s]\n"
          ]
        },
        {
          "output_type": "stream",
          "name": "stdout",
          "text": [
            "Extracting data/MNIST/raw/train-labels-idx1-ubyte.gz to data/MNIST/raw\n",
            "\n",
            "Downloading http://yann.lecun.com/exdb/mnist/t10k-images-idx3-ubyte.gz\n",
            "Failed to download (trying next):\n",
            "HTTP Error 403: Forbidden\n",
            "\n",
            "Downloading https://ossci-datasets.s3.amazonaws.com/mnist/t10k-images-idx3-ubyte.gz\n",
            "Downloading https://ossci-datasets.s3.amazonaws.com/mnist/t10k-images-idx3-ubyte.gz to data/MNIST/raw/t10k-images-idx3-ubyte.gz\n"
          ]
        },
        {
          "output_type": "stream",
          "name": "stderr",
          "text": [
            "100%|██████████| 1648877/1648877 [00:00<00:00, 4391039.37it/s]\n"
          ]
        },
        {
          "output_type": "stream",
          "name": "stdout",
          "text": [
            "Extracting data/MNIST/raw/t10k-images-idx3-ubyte.gz to data/MNIST/raw\n",
            "\n",
            "Downloading http://yann.lecun.com/exdb/mnist/t10k-labels-idx1-ubyte.gz\n",
            "Failed to download (trying next):\n",
            "HTTP Error 403: Forbidden\n",
            "\n",
            "Downloading https://ossci-datasets.s3.amazonaws.com/mnist/t10k-labels-idx1-ubyte.gz\n",
            "Downloading https://ossci-datasets.s3.amazonaws.com/mnist/t10k-labels-idx1-ubyte.gz to data/MNIST/raw/t10k-labels-idx1-ubyte.gz\n"
          ]
        },
        {
          "output_type": "stream",
          "name": "stderr",
          "text": [
            "100%|██████████| 4542/4542 [00:00<00:00, 5940295.84it/s]\n"
          ]
        },
        {
          "output_type": "stream",
          "name": "stdout",
          "text": [
            "Extracting data/MNIST/raw/t10k-labels-idx1-ubyte.gz to data/MNIST/raw\n",
            "\n"
          ]
        }
      ]
    },
    {
      "cell_type": "markdown",
      "source": [
        "\n",
        "\n",
        "---\n",
        "\n"
      ],
      "metadata": {
        "id": "j4cFpcdqsr-K"
      }
    },
    {
      "cell_type": "markdown",
      "source": [
        "#### Exploratory Data Analysis\n",
        "\n",
        "* Getting some characteristics of the dataset before working on it\n",
        "\n",
        "* Getting the length of the whole training 'dataset' and also inspecting the type of the dataset"
      ],
      "metadata": {
        "id": "x72_broCqYX-"
      }
    },
    {
      "cell_type": "code",
      "source": [
        "len(dataset), type(dataset)"
      ],
      "metadata": {
        "colab": {
          "base_uri": "https://localhost:8080/",
          "height": 0
        },
        "id": "PraNEYYKkavS",
        "outputId": "d05bd08b-4aae-402a-bfff-6194bba544e1"
      },
      "execution_count": 4,
      "outputs": [
        {
          "output_type": "execute_result",
          "data": {
            "text/plain": [
              "(60000, torchvision.datasets.mnist.MNIST)"
            ]
          },
          "metadata": {},
          "execution_count": 4
        }
      ]
    },
    {
      "cell_type": "markdown",
      "source": [
        "* Downloading the test dataset and storing it into the root folder 'data' and giving train as false, so that the model is not destined to train on it\n",
        "* Inspecting the length and type of the 'test_dataset'"
      ],
      "metadata": {
        "id": "1lnbQ6ZnrGk9"
      }
    },
    {
      "cell_type": "code",
      "source": [
        "test_dataset = MNIST(root='data/', train=False)\n",
        "len(test_dataset), type(test_dataset)"
      ],
      "metadata": {
        "colab": {
          "base_uri": "https://localhost:8080/",
          "height": 0
        },
        "id": "Zb2IoIv_khm7",
        "outputId": "c59cdc38-0695-4f21-aedc-9e699a858b1c"
      },
      "execution_count": 5,
      "outputs": [
        {
          "output_type": "execute_result",
          "data": {
            "text/plain": [
              "(10000, torchvision.datasets.mnist.MNIST)"
            ]
          },
          "metadata": {},
          "execution_count": 5
        }
      ]
    },
    {
      "cell_type": "markdown",
      "source": [
        "* Getting the type of a single dataset record that is a single image\n",
        "* Inspecting the type of the image, which is a pillow image and the size of it is 28px X 28px and the image is of label(number 5)"
      ],
      "metadata": {
        "id": "QM7EnJwLr2Mu"
      }
    },
    {
      "cell_type": "code",
      "source": [
        "dataset[0]"
      ],
      "metadata": {
        "colab": {
          "base_uri": "https://localhost:8080/",
          "height": 0
        },
        "id": "4ybT6Zrjk5gH",
        "outputId": "0caa143f-ac9c-4cba-d641-70101995800a"
      },
      "execution_count": 6,
      "outputs": [
        {
          "output_type": "execute_result",
          "data": {
            "text/plain": [
              "(<PIL.Image.Image image mode=L size=28x28>, 5)"
            ]
          },
          "metadata": {},
          "execution_count": 6
        }
      ]
    },
    {
      "cell_type": "markdown",
      "source": [
        "* Extracting the image record and label of the image from the first dataset record\n",
        "* Showing the image on a graph, to visualize the image using the pixel data\n",
        "* Printing out the original label of the image"
      ],
      "metadata": {
        "id": "flG_K1GRsiJd"
      }
    },
    {
      "cell_type": "code",
      "source": [
        "image, label = dataset[0]\n",
        "plt.imshow(image, cmap='gray')\n",
        "print('Label:', label)"
      ],
      "metadata": {
        "colab": {
          "base_uri": "https://localhost:8080/",
          "height": 447
        },
        "id": "MwcWsao8k7iH",
        "outputId": "c2afc3e7-9c88-4d4c-c677-a4dac6018e6c"
      },
      "execution_count": 7,
      "outputs": [
        {
          "output_type": "stream",
          "name": "stdout",
          "text": [
            "Label: 5\n"
          ]
        },
        {
          "output_type": "display_data",
          "data": {
            "text/plain": [
              "<Figure size 640x480 with 1 Axes>"
            ],
            "image/png": "[encoded data removed]"
          },
          "metadata": {}
        }
      ]
    },
    {
      "cell_type": "markdown",
      "source": [
        "* Repeating the same process in another dataset record"
      ],
      "metadata": {
        "id": "VniAfUkvtE1M"
      }
    },
    {
      "cell_type": "code",
      "source": [
        "image, label = dataset[10]\n",
        "plt.imshow(image, cmap='gray')\n",
        "print('Label:', label)"
      ],
      "metadata": {
        "colab": {
          "base_uri": "https://localhost:8080/",
          "height": 447
        },
        "id": "yjcNwpTRlVWa",
        "outputId": "7cd7c081-18cd-4ff3-fe0d-a1ae18883a73"
      },
      "execution_count": 8,
      "outputs": [
        {
          "output_type": "stream",
          "name": "stdout",
          "text": [
            "Label: 3\n"
          ]
        },
        {
          "output_type": "display_data",
          "data": {
            "text/plain": [
              "<Figure size 640x480 with 1 Axes>"
            ],
            "image/png": "[encoded data removed]"
          },
          "metadata": {}
        }
      ]
    },
    {
      "cell_type": "markdown",
      "source": [
        "\n",
        "\n",
        "---\n",
        "\n"
      ],
      "metadata": {
        "id": "8tEjVNIbtLcP"
      }
    },
    {
      "cell_type": "markdown",
      "source": [
        "#### Loading the dataset as a Training Dataset and performing EDA\n",
        "\n",
        "* Storing the training dataset into the root folder'data'\n",
        "* Training attribute is mentioned as true, so the dataset can be used for training a model\n",
        "* The dataset when is loaded is transformed into a tensor, which is a special datatype used in Pytorch"
      ],
      "metadata": {
        "id": "RaqWxQvbtOi3"
      }
    },
    {
      "cell_type": "code",
      "source": [
        "# Pytorch datasets allow us to specify one or more transformation functions that are applied to the images as they are loaded.\n",
        "# The torchvsion.transforms module contains many such predefined functions. We'll use the ToTensor transform to convert images into Pytorch Tensors\n",
        "dataset = MNIST(root='data/',train=True,transform=transforms.ToTensor())"
      ],
      "metadata": {
        "id": "KgDjjFshlZ2a"
      },
      "execution_count": 9,
      "outputs": []
    },
    {
      "cell_type": "markdown",
      "source": [
        "* Getting the image data and labels seperately from the dataset record\n",
        "* Inspecting the shape of the data and how it is distributed along with the label of the image"
      ],
      "metadata": {
        "id": "0JJrtkFUtwLP"
      }
    },
    {
      "cell_type": "code",
      "source": [
        "img_tensor, label = dataset[0]\n",
        "print(img_tensor.shape, label)\n",
        "# 1st value -> Channel, Height(px), Width(px)"
      ],
      "metadata": {
        "colab": {
          "base_uri": "https://localhost:8080/",
          "height": 0
        },
        "id": "EXd5KxVumVdL",
        "outputId": "66095b55-a401-4f05-efa6-105d54b13c4f"
      },
      "execution_count": 10,
      "outputs": [
        {
          "output_type": "stream",
          "name": "stdout",
          "text": [
            "torch.Size([1, 28, 28]) 5\n"
          ]
        }
      ]
    },
    {
      "cell_type": "markdown",
      "source": [
        "Inspecting the image data and how it's distributed\n",
        "* The data is a 3D Data of one channel\n",
        "* It is a set of 28 lists containing 28 elements each\n",
        "* It resembles 28 rows and each row containing 28 pixels each"
      ],
      "metadata": {
        "id": "0risH9NNBfAr"
      }
    },
    {
      "cell_type": "code",
      "source": [
        "img_tensor"
      ],
      "metadata": {
        "colab": {
          "base_uri": "https://localhost:8080/",
          "height": 0
        },
        "id": "YpwKfxoYmdai",
        "outputId": "167c2e0d-89ca-4462-a004-987e6f6c3359"
      },
      "execution_count": 11,
      "outputs": [
        {
          "output_type": "execute_result",
          "data": {
            "text/plain": [
              "tensor([[[0.0000, 0.0000, 0.0000, 0.0000, 0.0000, 0.0000, 0.0000, 0.0000,\n",
              "          0.0000, 0.0000, 0.0000, 0.0000, 0.0000, 0.0000, 0.0000, 0.0000,\n",
              "          0.0000, 0.0000, 0.0000, 0.0000, 0.0000, 0.0000, 0.0000, 0.0000,\n",
              "          0.0000, 0.0000, 0.0000, 0.0000],\n",
              "         [0.0000, 0.0000, 0.0000, 0.0000, 0.0000, 0.0000, 0.0000, 0.0000,\n",
              "          0.0000, 0.0000, 0.0000, 0.0000, 0.0000, 0.0000, 0.0000, 0.0000,\n",
              "          0.0000, 0.0000, 0.0000, 0.0000, 0.0000, 0.0000, 0.0000, 0.0000,\n",
              "          0.0000, 0.0000, 0.0000, 0.0000],\n",
              "         [0.0000, 0.0000, 0.0000, 0.0000, 0.0000, 0.0000, 0.0000, 0.0000,\n",
              "          0.0000, 0.0000, 0.0000, 0.0000, 0.0000, 0.0000, 0.0000, 0.0000,\n",
              "          0.0000, 0.0000, 0.0000, 0.0000, 0.0000, 0.0000, 0.0000, 0.0000,\n",
              "          0.0000, 0.0000, 0.0000, 0.0000],\n",
              "         [0.0000, 0.0000, 0.0000, 0.0000, 0.0000, 0.0000, 0.0000, 0.0000,\n",
              "          0.0000, 0.0000, 0.0000, 0.0000, 0.0000, 0.0000, 0.0000, 0.0000,\n",
              "          0.0000, 0.0000, 0.0000, 0.0000, 0.0000, 0.0000, 0.0000, 0.0000,\n",
              "          0.0000, 0.0000, 0.0000, 0.0000],\n",
              "         [0.0000, 0.0000, 0.0000, 0.0000, 0.0000, 0.0000, 0.0000, 0.0000,\n",
              "          0.0000, 0.0000, 0.0000, 0.0000, 0.0000, 0.0000, 0.0000, 0.0000,\n",
              "          0.0000, 0.0000, 0.0000, 0.0000, 0.0000, 0.0000, 0.0000, 0.0000,\n",
              "          0.0000, 0.0000, 0.0000, 0.0000],\n",
              "         [0.0000, 0.0000, 0.0000, 0.0000, 0.0000, 0.0000, 0.0000, 0.0000,\n",
              "          0.0000, 0.0000, 0.0000, 0.0000, 0.0118, 0.0706, 0.0706, 0.0706,\n",
              "          0.4941, 0.5333, 0.6863, 0.1020, 0.6510, 1.0000, 0.9686, 0.4980,\n",
              "          0.0000, 0.0000, 0.0000, 0.0000],\n",
              "         [0.0000, 0.0000, 0.0000, 0.0000, 0.0000, 0.0000, 0.0000, 0.0000,\n",
              "          0.1176, 0.1412, 0.3686, 0.6039, 0.6667, 0.9922, 0.9922, 0.9922,\n",
              "          0.9922, 0.9922, 0.8824, 0.6745, 0.9922, 0.9490, 0.7647, 0.2510,\n",
              "          0.0000, 0.0000, 0.0000, 0.0000],\n",
              "         [0.0000, 0.0000, 0.0000, 0.0000, 0.0000, 0.0000, 0.0000, 0.1922,\n",
              "          0.9333, 0.9922, 0.9922, 0.9922, 0.9922, 0.9922, 0.9922, 0.9922,\n",
              "          0.9922, 0.9843, 0.3647, 0.3216, 0.3216, 0.2196, 0.1529, 0.0000,\n",
              "          0.0000, 0.0000, 0.0000, 0.0000],\n",
              "         [0.0000, 0.0000, 0.0000, 0.0000, 0.0000, 0.0000, 0.0000, 0.0706,\n",
              "          0.8588, 0.9922, 0.9922, 0.9922, 0.9922, 0.9922, 0.7765, 0.7137,\n",
              "          0.9686, 0.9451, 0.0000, 0.0000, 0.0000, 0.0000, 0.0000, 0.0000,\n",
              "          0.0000, 0.0000, 0.0000, 0.0000],\n",
              "         [0.0000, 0.0000, 0.0000, 0.0000, 0.0000, 0.0000, 0.0000, 0.0000,\n",
              "          0.3137, 0.6118, 0.4196, 0.9922, 0.9922, 0.8039, 0.0431, 0.0000,\n",
              "          0.1686, 0.6039, 0.0000, 0.0000, 0.0000, 0.0000, 0.0000, 0.0000,\n",
              "          0.0000, 0.0000, 0.0000, 0.0000],\n",
              "         [0.0000, 0.0000, 0.0000, 0.0000, 0.0000, 0.0000, 0.0000, 0.0000,\n",
              "          0.0000, 0.0549, 0.0039, 0.6039, 0.9922, 0.3529, 0.0000, 0.0000,\n",
              "          0.0000, 0.0000, 0.0000, 0.0000, 0.0000, 0.0000, 0.0000, 0.0000,\n",
              "          0.0000, 0.0000, 0.0000, 0.0000],\n",
              "         [0.0000, 0.0000, 0.0000, 0.0000, 0.0000, 0.0000, 0.0000, 0.0000,\n",
              "          0.0000, 0.0000, 0.0000, 0.5451, 0.9922, 0.7451, 0.0078, 0.0000,\n",
              "          0.0000, 0.0000, 0.0000, 0.0000, 0.0000, 0.0000, 0.0000, 0.0000,\n",
              "          0.0000, 0.0000, 0.0000, 0.0000],\n",
              "         [0.0000, 0.0000, 0.0000, 0.0000, 0.0000, 0.0000, 0.0000, 0.0000,\n",
              "          0.0000, 0.0000, 0.0000, 0.0431, 0.7451, 0.9922, 0.2745, 0.0000,\n",
              "          0.0000, 0.0000, 0.0000, 0.0000, 0.0000, 0.0000, 0.0000, 0.0000,\n",
              "          0.0000, 0.0000, 0.0000, 0.0000],\n",
              "         [0.0000, 0.0000, 0.0000, 0.0000, 0.0000, 0.0000, 0.0000, 0.0000,\n",
              "          0.0000, 0.0000, 0.0000, 0.0000, 0.1373, 0.9451, 0.8824, 0.6275,\n",
              "          0.4235, 0.0039, 0.0000, 0.0000, 0.0000, 0.0000, 0.0000, 0.0000,\n",
              "          0.0000, 0.0000, 0.0000, 0.0000],\n",
              "         [0.0000, 0.0000, 0.0000, 0.0000, 0.0000, 0.0000, 0.0000, 0.0000,\n",
              "          0.0000, 0.0000, 0.0000, 0.0000, 0.0000, 0.3176, 0.9412, 0.9922,\n",
              "          0.9922, 0.4667, 0.0980, 0.0000, 0.0000, 0.0000, 0.0000, 0.0000,\n",
              "          0.0000, 0.0000, 0.0000, 0.0000],\n",
              "         [0.0000, 0.0000, 0.0000, 0.0000, 0.0000, 0.0000, 0.0000, 0.0000,\n",
              "          0.0000, 0.0000, 0.0000, 0.0000, 0.0000, 0.0000, 0.1765, 0.7294,\n",
              "          0.9922, 0.9922, 0.5882, 0.1059, 0.0000, 0.0000, 0.0000, 0.0000,\n",
              "          0.0000, 0.0000, 0.0000, 0.0000],\n",
              "         [0.0000, 0.0000, 0.0000, 0.0000, 0.0000, 0.0000, 0.0000, 0.0000,\n",
              "          0.0000, 0.0000, 0.0000, 0.0000, 0.0000, 0.0000, 0.0000, 0.0627,\n",
              "          0.3647, 0.9882, 0.9922, 0.7333, 0.0000, 0.0000, 0.0000, 0.0000,\n",
              "          0.0000, 0.0000, 0.0000, 0.0000],\n",
              "         [0.0000, 0.0000, 0.0000, 0.0000, 0.0000, 0.0000, 0.0000, 0.0000,\n",
              "          0.0000, 0.0000, 0.0000, 0.0000, 0.0000, 0.0000, 0.0000, 0.0000,\n",
              "          0.0000, 0.9765, 0.9922, 0.9765, 0.2510, 0.0000, 0.0000, 0.0000,\n",
              "          0.0000, 0.0000, 0.0000, 0.0000],\n",
              "         [0.0000, 0.0000, 0.0000, 0.0000, 0.0000, 0.0000, 0.0000, 0.0000,\n",
              "          0.0000, 0.0000, 0.0000, 0.0000, 0.0000, 0.0000, 0.1804, 0.5098,\n",
              "          0.7176, 0.9922, 0.9922, 0.8118, 0.0078, 0.0000, 0.0000, 0.0000,\n",
              "          0.0000, 0.0000, 0.0000, 0.0000],\n",
              "         [0.0000, 0.0000, 0.0000, 0.0000, 0.0000, 0.0000, 0.0000, 0.0000,\n",
              "          0.0000, 0.0000, 0.0000, 0.0000, 0.1529, 0.5804, 0.8980, 0.9922,\n",
              "          0.9922, 0.9922, 0.9804, 0.7137, 0.0000, 0.0000, 0.0000, 0.0000,\n",
              "          0.0000, 0.0000, 0.0000, 0.0000],\n",
              "         [0.0000, 0.0000, 0.0000, 0.0000, 0.0000, 0.0000, 0.0000, 0.0000,\n",
              "          0.0000, 0.0000, 0.0941, 0.4471, 0.8667, 0.9922, 0.9922, 0.9922,\n",
              "          0.9922, 0.7882, 0.3059, 0.0000, 0.0000, 0.0000, 0.0000, 0.0000,\n",
              "          0.0000, 0.0000, 0.0000, 0.0000],\n",
              "         [0.0000, 0.0000, 0.0000, 0.0000, 0.0000, 0.0000, 0.0000, 0.0000,\n",
              "          0.0902, 0.2588, 0.8353, 0.9922, 0.9922, 0.9922, 0.9922, 0.7765,\n",
              "          0.3176, 0.0078, 0.0000, 0.0000, 0.0000, 0.0000, 0.0000, 0.0000,\n",
              "          0.0000, 0.0000, 0.0000, 0.0000],\n",
              "         [0.0000, 0.0000, 0.0000, 0.0000, 0.0000, 0.0000, 0.0706, 0.6706,\n",
              "          0.8588, 0.9922, 0.9922, 0.9922, 0.9922, 0.7647, 0.3137, 0.0353,\n",
              "          0.0000, 0.0000, 0.0000, 0.0000, 0.0000, 0.0000, 0.0000, 0.0000,\n",
              "          0.0000, 0.0000, 0.0000, 0.0000],\n",
              "         [0.0000, 0.0000, 0.0000, 0.0000, 0.2157, 0.6745, 0.8863, 0.9922,\n",
              "          0.9922, 0.9922, 0.9922, 0.9569, 0.5216, 0.0431, 0.0000, 0.0000,\n",
              "          0.0000, 0.0000, 0.0000, 0.0000, 0.0000, 0.0000, 0.0000, 0.0000,\n",
              "          0.0000, 0.0000, 0.0000, 0.0000],\n",
              "         [0.0000, 0.0000, 0.0000, 0.0000, 0.5333, 0.9922, 0.9922, 0.9922,\n",
              "          0.8314, 0.5294, 0.5176, 0.0627, 0.0000, 0.0000, 0.0000, 0.0000,\n",
              "          0.0000, 0.0000, 0.0000, 0.0000, 0.0000, 0.0000, 0.0000, 0.0000,\n",
              "          0.0000, 0.0000, 0.0000, 0.0000],\n",
              "         [0.0000, 0.0000, 0.0000, 0.0000, 0.0000, 0.0000, 0.0000, 0.0000,\n",
              "          0.0000, 0.0000, 0.0000, 0.0000, 0.0000, 0.0000, 0.0000, 0.0000,\n",
              "          0.0000, 0.0000, 0.0000, 0.0000, 0.0000, 0.0000, 0.0000, 0.0000,\n",
              "          0.0000, 0.0000, 0.0000, 0.0000],\n",
              "         [0.0000, 0.0000, 0.0000, 0.0000, 0.0000, 0.0000, 0.0000, 0.0000,\n",
              "          0.0000, 0.0000, 0.0000, 0.0000, 0.0000, 0.0000, 0.0000, 0.0000,\n",
              "          0.0000, 0.0000, 0.0000, 0.0000, 0.0000, 0.0000, 0.0000, 0.0000,\n",
              "          0.0000, 0.0000, 0.0000, 0.0000],\n",
              "         [0.0000, 0.0000, 0.0000, 0.0000, 0.0000, 0.0000, 0.0000, 0.0000,\n",
              "          0.0000, 0.0000, 0.0000, 0.0000, 0.0000, 0.0000, 0.0000, 0.0000,\n",
              "          0.0000, 0.0000, 0.0000, 0.0000, 0.0000, 0.0000, 0.0000, 0.0000,\n",
              "          0.0000, 0.0000, 0.0000, 0.0000]]])"
            ]
          },
          "metadata": {},
          "execution_count": 11
        }
      ]
    },
    {
      "cell_type": "markdown",
      "source": [
        "Inspecting a subset of pixels data from 28x28 image\n",
        "* From the first dimension i.e. single channel, extract the 10th pixel to 15th pixel data from the 10th row to 15th row\n",
        "* Getting the maximum and minimum pixel value from the first image record"
      ],
      "metadata": {
        "id": "uBG89ZDSCK-i"
      }
    },
    {
      "cell_type": "code",
      "source": [
        "print(img_tensor[0,10:15, 10:15])\n",
        "print(torch.max(img_tensor), torch.min(img_tensor))"
      ],
      "metadata": {
        "colab": {
          "base_uri": "https://localhost:8080/",
          "height": 0
        },
        "id": "Ug-6i8E7mvMs",
        "outputId": "1f6335b7-75b8-40d0-eaee-1dbac054ab8a"
      },
      "execution_count": 12,
      "outputs": [
        {
          "output_type": "stream",
          "name": "stdout",
          "text": [
            "tensor([[0.0039, 0.6039, 0.9922, 0.3529, 0.0000],\n",
            "        [0.0000, 0.5451, 0.9922, 0.7451, 0.0078],\n",
            "        [0.0000, 0.0431, 0.7451, 0.9922, 0.2745],\n",
            "        [0.0000, 0.0000, 0.1373, 0.9451, 0.8824],\n",
            "        [0.0000, 0.0000, 0.0000, 0.3176, 0.9412]])\n",
            "tensor(1.) tensor(0.)\n"
          ]
        }
      ]
    },
    {
      "cell_type": "markdown",
      "source": [
        "Getting to visualize the above subset data extracted to a image plot in matplotlib which will extract a particular portion of image in form of pixels data"
      ],
      "metadata": {
        "id": "MFMSE7y8Dt6v"
      }
    },
    {
      "cell_type": "code",
      "source": [
        "plt.imshow(img_tensor[0,10:15, 10:15], cmap='gray')"
      ],
      "metadata": {
        "colab": {
          "base_uri": "https://localhost:8080/",
          "height": 447
        },
        "id": "QZ-1qoCHsG1X",
        "outputId": "97b816c5-3dae-436d-b101-4f49d3e22c97"
      },
      "execution_count": 13,
      "outputs": [
        {
          "output_type": "execute_result",
          "data": {
            "text/plain": [
              "<matplotlib.image.AxesImage at 0x79d027ce3100>"
            ]
          },
          "metadata": {},
          "execution_count": 13
        },
        {
          "output_type": "display_data",
          "data": {
            "text/plain": [
              "<Figure size 640x480 with 1 Axes>"
            ],
            "image/png": "[encoded data removed]"
          },
          "metadata": {}
        }
      ]
    },
    {
      "cell_type": "markdown",
      "source": [
        "\n",
        "\n",
        "---\n",
        "\n"
      ],
      "metadata": {
        "id": "UyVB3nM1D-K7"
      }
    },
    {
      "cell_type": "markdown",
      "source": [
        "#### Performing a random split of dataset into Training and Validation dataset\n",
        "* Training dataset consist of 50,000 rows and validation dataset consists of 10,000 rows\n",
        "* The whole dataset will be randomly split into the specific rows and records"
      ],
      "metadata": {
        "id": "LLDV4AAJEEiR"
      }
    },
    {
      "cell_type": "code",
      "source": [
        "train_ds, val_ds = random_split(dataset, [50000, 10000])\n",
        "len(train_ds), len(val_ds)"
      ],
      "metadata": {
        "colab": {
          "base_uri": "https://localhost:8080/",
          "height": 0
        },
        "id": "9XQ03fyfsXEH",
        "outputId": "a1ba46c3-d236-4ed0-cf33-a500dfc43536"
      },
      "execution_count": 14,
      "outputs": [
        {
          "output_type": "execute_result",
          "data": {
            "text/plain": [
              "(50000, 10000)"
            ]
          },
          "metadata": {},
          "execution_count": 14
        }
      ]
    },
    {
      "cell_type": "markdown",
      "source": [
        "\n",
        "\n",
        "---\n",
        "\n"
      ],
      "metadata": {
        "id": "ppwgexHwFPjo"
      }
    },
    {
      "cell_type": "markdown",
      "source": [
        "#### Preparing the Training Dataset loader object\n",
        "\n",
        "* The training dataset loader will contain a DataLoader object, with a specific batch size and the training dataset object and the dataset will be shuffled using the shuffle=True attribute\n",
        "* The validation dataset loader will also be generated from the validation dataset using the specific batch size\n",
        "* These dataset loader object will help during the training and validation of deep learning models"
      ],
      "metadata": {
        "id": "nd47E7oPEjWq"
      }
    },
    {
      "cell_type": "code",
      "source": [
        "batch_size = 128\n",
        "train_loader = DataLoader(train_ds, batch_size, shuffle=True)\n",
        "val_loader = DataLoader(val_ds, batch_size)"
      ],
      "metadata": {
        "id": "4M0iydGTtUzg"
      },
      "execution_count": 15,
      "outputs": []
    },
    {
      "cell_type": "code",
      "source": [
        "print(train_loader.batch_size)"
      ],
      "metadata": {
        "colab": {
          "base_uri": "https://localhost:8080/",
          "height": 0
        },
        "id": "Kl1QoVuK3V42",
        "outputId": "33b4853e-4659-40c7-83e9-809b9d8f3451"
      },
      "execution_count": 81,
      "outputs": [
        {
          "output_type": "stream",
          "name": "stdout",
          "text": [
            "128\n"
          ]
        }
      ]
    },
    {
      "cell_type": "markdown",
      "source": [
        "\n",
        "\n",
        "---\n",
        "\n"
      ],
      "metadata": {
        "id": "1sogTMlpFTSv"
      }
    },
    {
      "cell_type": "markdown",
      "source": [
        "#### Model Preparation\n",
        "\n",
        "* Specifying the input size as a 28px*28px image\n",
        "* The number of predictor classes are 10\n",
        "* Initializing a Linear model with 784 inputs and 10 outputs\n",
        "* The linear model will be initializing some starting weights to the respective inputs"
      ],
      "metadata": {
        "id": "GxAYP_zfFU-p"
      }
    },
    {
      "cell_type": "code",
      "source": [
        "# Model\n",
        "input_size = 28*28\n",
        "num_classes = 10\n",
        "\n",
        "# Logistic regression model\n",
        "model = nn.Linear(input_size, num_classes)"
      ],
      "metadata": {
        "id": "qZ0A_i6ftwWb"
      },
      "execution_count": 70,
      "outputs": []
    },
    {
      "cell_type": "markdown",
      "source": [
        "Inspecting the model size\n",
        "\n",
        "* The model has initialized 784 weights for each of the 10 classes\n",
        "* On calculation with these 784 weights, the final output decided the outcome of the model"
      ],
      "metadata": {
        "id": "NXtKTXaTxDHE"
      }
    },
    {
      "cell_type": "code",
      "source": [
        "model.weight.shape, model.weight"
      ],
      "metadata": {
        "colab": {
          "base_uri": "https://localhost:8080/",
          "height": 0
        },
        "id": "xIJ3iFc6vRCh",
        "outputId": "db6aebdb-3833-4559-bc71-84cb74ad66e1"
      },
      "execution_count": 71,
      "outputs": [
        {
          "output_type": "execute_result",
          "data": {
            "text/plain": [
              "(torch.Size([10, 784]),\n",
              " Parameter containing:\n",
              " tensor([[-0.0006, -0.0010, -0.0102,  ...,  0.0211,  0.0263, -0.0034],\n",
              "         [ 0.0226, -0.0127,  0.0160,  ...,  0.0218, -0.0311,  0.0127],\n",
              "         [-0.0080, -0.0226,  0.0229,  ..., -0.0262, -0.0209,  0.0164],\n",
              "         ...,\n",
              "         [ 0.0055,  0.0297,  0.0335,  ...,  0.0090,  0.0262, -0.0193],\n",
              "         [ 0.0266,  0.0245, -0.0087,  ...,  0.0243,  0.0330, -0.0174],\n",
              "         [ 0.0196,  0.0224,  0.0121,  ..., -0.0199, -0.0043, -0.0250]],\n",
              "        requires_grad=True))"
            ]
          },
          "metadata": {},
          "execution_count": 71
        }
      ]
    },
    {
      "cell_type": "code",
      "source": [
        "# Inspecting the model weights(784) for the number 9\n",
        "model.weight[9]"
      ],
      "metadata": {
        "colab": {
          "base_uri": "https://localhost:8080/",
          "height": 0
        },
        "id": "H8ZTzVkFyMyH",
        "outputId": "91c97ea9-d11e-47d9-b8e8-9e0a97b03d07"
      },
      "execution_count": 74,
      "outputs": [
        {
          "output_type": "execute_result",
          "data": {
            "text/plain": [
              "tensor([ 1.9636e-02,  2.2447e-02,  1.2086e-02, -3.4877e-02, -7.6594e-03,\n",
              "        -2.5894e-02,  7.4676e-04,  3.5293e-02,  3.2928e-02,  1.4939e-02,\n",
              "         1.4438e-02, -2.4565e-02, -9.6838e-03,  7.0768e-03, -1.5067e-02,\n",
              "         5.6306e-03, -1.4733e-02, -7.8417e-03, -1.5211e-02, -1.7242e-03,\n",
              "        -9.2878e-04,  1.1489e-02, -8.7501e-03, -4.6878e-03, -1.0401e-02,\n",
              "        -3.2626e-02,  6.9230e-03,  9.9894e-03, -1.9990e-02,  3.2235e-02,\n",
              "         8.5126e-03,  2.8107e-02, -3.7153e-03,  1.4167e-02, -2.9219e-02,\n",
              "        -2.3301e-02, -2.1516e-02, -2.3534e-02,  2.7745e-02, -6.2790e-03,\n",
              "         3.5409e-02,  9.5321e-03, -2.7888e-02, -5.6761e-04,  2.5499e-02,\n",
              "        -1.7316e-02,  1.4037e-02,  1.6788e-02, -1.5029e-02, -2.3135e-02,\n",
              "         1.0589e-02, -2.8120e-02, -3.3865e-02,  9.3379e-03,  1.3548e-02,\n",
              "         1.6971e-02,  1.6586e-02, -1.3733e-02, -2.8057e-02, -7.8546e-03,\n",
              "         2.5676e-02,  2.9128e-03,  1.3835e-02, -2.0043e-02,  7.8446e-03,\n",
              "        -1.2604e-02,  3.4713e-03,  1.6591e-02,  2.8935e-02, -3.3275e-02,\n",
              "         6.8434e-03,  2.9746e-02, -5.2027e-03,  2.6336e-02, -1.3953e-02,\n",
              "         1.1404e-02, -9.1754e-03, -7.2536e-03,  3.4282e-02, -1.7063e-02,\n",
              "        -1.9907e-03,  2.6538e-02, -1.0662e-02, -1.9325e-02, -1.5430e-02,\n",
              "        -6.6013e-03, -2.5453e-02,  2.7434e-02, -1.9821e-02,  1.7667e-02,\n",
              "        -1.9827e-02,  2.2755e-02,  1.5709e-02, -8.3935e-03,  2.9902e-02,\n",
              "         2.4622e-02, -1.1288e-03,  1.1508e-02, -6.3865e-03, -2.6062e-02,\n",
              "         1.8456e-02,  2.7663e-03, -1.4074e-02, -2.2666e-02,  2.8545e-02,\n",
              "         2.2497e-04,  1.2841e-02, -2.9064e-02, -3.0202e-02, -2.1307e-02,\n",
              "         1.7134e-02,  2.6013e-02, -1.2444e-02,  3.0555e-02,  1.2689e-02,\n",
              "         3.1990e-02, -3.3001e-02,  2.3484e-02,  1.8047e-02,  3.3180e-02,\n",
              "        -1.8768e-02,  3.3051e-03, -2.3351e-02,  1.7832e-02, -1.9768e-02,\n",
              "        -1.0651e-02,  2.2945e-02, -5.7893e-04, -1.4900e-02,  9.0686e-03,\n",
              "         1.1828e-02, -3.2090e-02, -2.2935e-02, -9.6020e-03, -7.8203e-03,\n",
              "        -1.6081e-02,  2.5392e-02,  2.1131e-02,  1.2281e-02, -3.3305e-02,\n",
              "         3.2425e-02,  1.3404e-02,  9.3531e-03, -7.1047e-03,  1.2994e-02,\n",
              "         3.5475e-02, -1.0739e-02,  2.0981e-02,  1.4749e-02, -2.4875e-02,\n",
              "        -3.4107e-02,  4.4210e-04,  5.2431e-03,  3.1974e-02,  4.9532e-03,\n",
              "        -1.9090e-02, -1.8224e-02, -6.9457e-03, -3.1432e-02, -6.7871e-03,\n",
              "         1.8263e-02,  3.4112e-03,  1.7251e-02, -1.3589e-02,  4.6044e-03,\n",
              "        -6.3980e-03,  2.1278e-02, -1.8734e-03, -1.8728e-02,  1.1871e-02,\n",
              "        -2.3752e-02,  3.3254e-03,  2.2282e-02,  1.3774e-02,  2.9473e-02,\n",
              "         2.7468e-02,  8.2288e-03,  2.9823e-02,  1.2295e-02,  2.3987e-02,\n",
              "        -5.6464e-03,  2.8206e-02,  2.8410e-02,  4.5261e-05, -5.2110e-03,\n",
              "         3.5357e-02,  1.5425e-02,  2.9570e-02, -2.7683e-02, -2.0241e-02,\n",
              "         2.2102e-02,  3.5157e-02,  3.5492e-02, -9.3574e-03,  2.7959e-02,\n",
              "         1.7938e-02, -2.6050e-02,  4.8363e-03,  3.2323e-02, -1.0257e-03,\n",
              "        -5.0462e-03,  1.9346e-03,  3.4567e-02, -1.4633e-02, -1.1659e-02,\n",
              "         1.3995e-02, -2.5017e-02,  6.7270e-03,  1.2190e-02,  1.7582e-02,\n",
              "         2.0640e-02, -2.7332e-02,  1.5727e-02,  1.5184e-02, -8.8969e-03,\n",
              "        -1.8830e-02, -2.2157e-02, -1.1258e-02, -2.8048e-02,  9.3065e-03,\n",
              "        -3.2687e-02, -4.1630e-03, -6.5505e-04,  3.3180e-02, -9.4105e-03,\n",
              "         3.0171e-02, -1.1893e-02, -4.4534e-03,  1.6058e-02, -2.9159e-02,\n",
              "        -1.3414e-02,  3.1464e-02,  1.5013e-03, -7.7098e-03,  2.1290e-02,\n",
              "        -2.2897e-02,  2.0051e-02,  2.8154e-02,  2.3868e-03, -9.5030e-03,\n",
              "        -1.0598e-02, -9.2787e-03, -9.3960e-03,  1.1785e-02,  3.3403e-02,\n",
              "         3.3997e-02, -1.5682e-02, -5.0927e-03,  2.5978e-02,  9.2928e-03,\n",
              "        -8.7135e-03,  2.7740e-02,  1.1739e-02,  2.1401e-02,  3.1336e-04,\n",
              "         3.4685e-02, -1.0189e-02,  1.8019e-02, -5.5616e-03,  3.0600e-02,\n",
              "         5.4116e-03,  4.3016e-03,  1.4213e-02,  7.0564e-03,  1.5291e-02,\n",
              "         2.7171e-02,  2.1870e-02,  1.6085e-02, -6.2240e-03, -3.4919e-02,\n",
              "         2.1158e-02, -7.6169e-03, -1.1445e-02,  5.6089e-03, -1.0123e-02,\n",
              "        -9.6741e-03, -2.2765e-02, -1.7327e-02,  2.6583e-02,  2.2383e-02,\n",
              "        -2.9259e-02, -1.9172e-02, -2.8565e-02,  2.7549e-02, -7.5780e-03,\n",
              "         3.1172e-02, -2.8902e-02,  1.2701e-02, -3.0466e-02,  1.1880e-02,\n",
              "         1.4633e-02,  4.8352e-03, -3.5572e-02, -2.4194e-03,  5.5110e-04,\n",
              "         1.7072e-03, -1.3021e-02,  3.5508e-02,  2.7975e-02,  1.1549e-02,\n",
              "         2.4951e-02, -3.5024e-03, -3.0160e-02, -2.5517e-02,  2.9915e-02,\n",
              "         1.9406e-02,  1.6771e-02, -8.7133e-03, -2.3303e-02, -1.9887e-02,\n",
              "        -2.5017e-03,  1.5895e-02, -1.1193e-02, -9.2450e-03,  2.0489e-02,\n",
              "         8.4502e-04, -2.0155e-02,  3.1149e-02,  2.8983e-02,  2.2195e-02,\n",
              "        -2.5043e-02,  1.8776e-03,  3.1275e-02, -3.3109e-02, -2.1622e-02,\n",
              "         2.7167e-02,  2.1952e-02,  2.7982e-02,  2.0065e-02, -3.3506e-02,\n",
              "        -1.9060e-02, -2.3961e-02, -1.3049e-02,  2.8098e-02,  3.2014e-02,\n",
              "        -2.2006e-02, -1.8164e-02, -2.4123e-02, -1.8025e-02, -1.4170e-02,\n",
              "        -1.7787e-02,  2.3675e-02,  1.1507e-02,  1.7676e-02,  2.0943e-02,\n",
              "        -7.7986e-03,  1.2270e-02, -7.4841e-03, -1.6575e-02,  1.5566e-02,\n",
              "         3.3483e-02,  3.0099e-02,  2.0744e-02, -1.5295e-02,  3.2824e-02,\n",
              "         1.9283e-02, -7.6157e-03,  2.6876e-03, -3.4292e-02, -1.1234e-02,\n",
              "        -1.5588e-02, -3.5094e-02,  2.0624e-02, -3.3769e-03,  3.3931e-02,\n",
              "        -2.2753e-02,  1.8752e-03,  2.7765e-02,  8.0734e-03, -1.0400e-02,\n",
              "        -8.6178e-03,  2.0120e-02, -1.1494e-02, -1.1792e-02, -2.8280e-02,\n",
              "         5.5254e-03, -2.6174e-03,  6.5731e-03, -2.5097e-02, -3.8277e-03,\n",
              "        -2.2958e-02,  2.8148e-02, -2.2535e-02,  3.0641e-02, -1.5903e-02,\n",
              "         1.9311e-02, -1.6285e-02,  8.6743e-04,  1.1211e-02, -2.6245e-02,\n",
              "        -1.1777e-02, -1.9353e-02,  3.2651e-02,  1.7904e-02,  9.5502e-03,\n",
              "         3.2723e-02, -3.4427e-02,  6.9507e-03,  5.6732e-03,  3.5692e-02,\n",
              "        -1.4698e-03,  1.5824e-02,  1.4834e-03, -9.6838e-03, -3.0272e-02,\n",
              "        -1.0815e-02, -2.6356e-02,  2.0229e-03,  8.9478e-03,  2.2032e-02,\n",
              "        -2.2260e-02,  8.5527e-03,  1.7501e-02,  7.5110e-03,  1.1879e-02,\n",
              "        -3.0856e-02, -2.1707e-02, -2.4435e-03,  2.3811e-03, -1.5174e-02,\n",
              "        -1.8649e-02, -2.5098e-02, -1.5354e-04,  3.1484e-02, -2.2128e-02,\n",
              "        -2.9023e-02,  2.7542e-02,  1.8418e-02, -2.4619e-02,  3.1524e-02,\n",
              "         1.5630e-02, -4.1415e-04, -1.8449e-02,  2.6351e-03,  9.9017e-03,\n",
              "        -2.6546e-02,  3.2202e-02, -2.5586e-02,  1.3041e-02,  8.6398e-03,\n",
              "        -3.9221e-03, -2.7677e-02,  1.2124e-02,  1.4245e-02, -2.9706e-02,\n",
              "        -2.5366e-02, -8.3609e-03, -2.4096e-02,  2.3025e-02,  2.9326e-02,\n",
              "         9.8523e-03, -1.6486e-02, -3.4304e-02,  3.0289e-02,  3.2833e-02,\n",
              "         6.6104e-03,  5.6310e-04, -9.9368e-03,  3.3730e-02,  1.9571e-02,\n",
              "        -1.7049e-02,  8.6347e-03, -2.4359e-02, -1.9642e-02,  7.6152e-03,\n",
              "        -2.6392e-03, -2.9172e-02,  3.1615e-02, -2.7203e-02, -2.9613e-02,\n",
              "        -1.9970e-02,  5.7271e-03, -3.3007e-02, -7.2059e-03,  3.1417e-02,\n",
              "        -3.2386e-02, -3.9905e-03,  2.5750e-02,  1.5890e-02, -3.2088e-02,\n",
              "         1.9693e-02,  2.0121e-02,  2.7047e-02,  7.5465e-03,  2.9602e-02,\n",
              "        -1.4545e-02, -1.2593e-03, -2.4256e-02, -2.9825e-02,  1.2782e-02,\n",
              "         2.2069e-02, -2.3386e-02, -1.4677e-02,  2.1976e-02,  2.9028e-02,\n",
              "        -3.5229e-02, -1.8471e-02, -2.5450e-02,  3.9943e-04,  3.1391e-02,\n",
              "         2.5546e-02, -4.5852e-03,  1.9261e-02, -3.1290e-02,  1.6886e-02,\n",
              "        -3.3516e-02,  3.3006e-02,  1.6679e-02, -5.5511e-03,  3.3144e-02,\n",
              "         8.1476e-03,  9.6590e-03,  1.7215e-02,  5.2793e-03, -4.8783e-04,\n",
              "        -1.1172e-02,  1.9403e-03,  2.6256e-02, -2.8976e-02, -3.2361e-02,\n",
              "         1.6289e-02, -3.0216e-02, -2.0510e-03,  3.1606e-02,  2.3010e-03,\n",
              "        -5.1662e-03,  1.3143e-02,  2.6283e-02, -1.5079e-02, -3.4189e-02,\n",
              "        -3.4720e-02,  7.9675e-03, -1.5956e-02, -4.3232e-03,  2.7756e-02,\n",
              "        -1.9298e-02,  1.7981e-02, -3.5553e-02,  2.9903e-02, -1.4139e-02,\n",
              "        -1.0364e-02,  1.2018e-02,  1.8479e-02,  3.0366e-02,  2.5816e-02,\n",
              "        -1.9968e-02,  5.8764e-03,  1.8023e-02, -1.8276e-02, -2.5476e-03,\n",
              "        -3.6673e-03,  9.7763e-04, -1.7198e-02,  2.0343e-02, -1.6472e-02,\n",
              "        -4.7244e-03, -1.9484e-02, -2.7208e-02, -2.8570e-02,  3.0129e-02,\n",
              "        -5.6313e-03,  3.5685e-02, -1.9401e-02,  1.5510e-02, -2.7682e-02,\n",
              "         1.5080e-02, -2.4878e-02,  3.3454e-02, -2.0444e-02, -2.2334e-02,\n",
              "         3.2978e-02, -1.0590e-02,  3.5265e-02, -3.2047e-02, -7.2974e-03,\n",
              "        -3.0018e-02, -2.6825e-03, -1.4744e-02,  2.9245e-02,  4.5458e-03,\n",
              "        -3.3252e-02, -3.4937e-02, -2.6723e-02,  3.5045e-02, -2.1187e-03,\n",
              "         2.7372e-02,  5.2626e-03,  1.8252e-03, -7.5965e-04,  2.7179e-03,\n",
              "         4.2423e-03,  1.9025e-02, -2.5680e-02, -1.1117e-02, -2.9709e-02,\n",
              "        -1.6124e-02,  4.8837e-03,  3.5629e-02,  1.5033e-02,  2.4767e-02,\n",
              "        -8.9627e-03,  3.3741e-02,  2.8158e-02, -3.2916e-02, -1.7194e-02,\n",
              "        -2.6990e-02,  7.4877e-03,  3.4347e-02,  7.4590e-03, -1.7563e-02,\n",
              "         9.4527e-03,  5.3897e-03,  1.6745e-03,  3.1536e-02,  2.7400e-02,\n",
              "         3.2527e-02, -2.5370e-02, -1.5042e-02, -1.2429e-02,  2.2684e-02,\n",
              "        -1.5806e-02, -2.1915e-03, -5.1622e-03,  1.9095e-02, -1.2950e-02,\n",
              "         1.6201e-02, -1.8307e-02, -1.4396e-02, -3.0755e-02,  2.6344e-02,\n",
              "         3.5345e-02,  2.9028e-02, -1.3231e-02,  2.0556e-02, -1.4113e-03,\n",
              "        -3.0356e-02,  9.7482e-03,  1.3630e-02, -2.5736e-02, -1.3036e-02,\n",
              "         2.6050e-02, -1.4279e-02,  1.6436e-02, -1.2583e-02,  2.2009e-02,\n",
              "        -2.5167e-02,  1.9842e-02,  1.1548e-02, -3.3564e-02, -2.6555e-02,\n",
              "         1.3402e-02,  2.8976e-02, -2.1812e-02,  2.0642e-02, -3.3203e-02,\n",
              "         2.7170e-02,  2.9366e-03,  2.5056e-02, -2.8577e-03,  3.5250e-02,\n",
              "        -6.3120e-03, -2.4815e-02,  1.9942e-02,  1.4317e-02, -1.0029e-02,\n",
              "        -1.6922e-02,  2.5850e-02, -1.3721e-04, -2.6547e-02,  1.0514e-02,\n",
              "         1.3991e-02, -2.2560e-02,  1.5941e-02,  1.7184e-04, -2.4173e-02,\n",
              "         3.1529e-02, -2.6796e-02, -2.7375e-02, -1.8297e-02, -2.3949e-02,\n",
              "        -2.9444e-02, -1.6644e-02,  1.7531e-02, -2.9636e-03,  1.3299e-02,\n",
              "         3.0248e-02,  7.2557e-03,  2.9161e-02, -2.6288e-02, -3.0068e-02,\n",
              "         2.9118e-03, -3.1656e-02, -3.2618e-02,  3.0540e-02, -3.0095e-02,\n",
              "         3.4821e-02,  2.3117e-02, -2.5927e-02,  1.7266e-02,  2.4405e-02,\n",
              "         1.3317e-02,  2.9669e-02, -1.8287e-02, -2.4812e-02,  8.2611e-03,\n",
              "         1.4561e-02,  7.0195e-04,  2.8779e-02,  1.7518e-02,  5.4114e-03,\n",
              "        -3.0435e-02,  1.9472e-02, -3.1294e-03,  8.9676e-03,  1.5436e-02,\n",
              "         3.0984e-02, -9.3429e-03,  6.2054e-03,  1.3157e-02,  6.7725e-03,\n",
              "         6.8363e-03, -3.1154e-02, -1.7533e-02, -4.4146e-03, -2.2745e-02,\n",
              "        -7.3392e-03, -8.2554e-03, -6.0544e-03, -1.1255e-02,  1.7957e-02,\n",
              "        -3.5079e-02,  3.0273e-02, -1.5913e-02,  1.7200e-02, -8.4040e-04,\n",
              "        -3.0039e-02,  5.7078e-03, -3.1828e-02, -2.5326e-02, -2.9827e-02,\n",
              "         6.0411e-04,  2.2412e-02, -1.0773e-02, -2.8433e-02, -7.4686e-03,\n",
              "        -2.5361e-02,  3.5260e-02,  2.4356e-02, -2.2629e-02, -2.1834e-03,\n",
              "        -3.3581e-02,  3.2316e-02, -9.7625e-03,  2.7368e-02, -1.7374e-03,\n",
              "         8.5587e-03,  1.3909e-03,  1.3043e-02,  1.7045e-02,  2.1283e-03,\n",
              "        -3.1068e-02,  3.1640e-02,  2.1388e-02,  1.9861e-02,  3.4099e-02,\n",
              "        -3.5230e-02,  9.0915e-03, -3.3941e-02, -8.7634e-03,  6.8322e-03,\n",
              "        -1.8577e-02, -8.7612e-03,  1.4344e-02,  3.2221e-02,  6.0010e-03,\n",
              "        -5.0774e-03,  1.3424e-02,  4.0204e-03,  8.9455e-03,  3.9228e-03,\n",
              "        -2.4383e-02, -1.9891e-02, -4.3419e-03, -2.4992e-02],\n",
              "       grad_fn=<SelectBackward0>)"
            ]
          },
          "metadata": {},
          "execution_count": 74
        }
      ]
    },
    {
      "cell_type": "markdown",
      "source": [
        "After calculating the multiplied output with weights a bias is added\n",
        "* A different bias is added for each of the class"
      ],
      "metadata": {
        "id": "Watuu9Dwy0te"
      }
    },
    {
      "cell_type": "code",
      "source": [
        "model.bias.shape, model.bias"
      ],
      "metadata": {
        "colab": {
          "base_uri": "https://localhost:8080/",
          "height": 0
        },
        "id": "fUeIk-kTvVLP",
        "outputId": "d3fa36e2-c1ef-47c1-bd4a-b5febafcd120"
      },
      "execution_count": 18,
      "outputs": [
        {
          "output_type": "execute_result",
          "data": {
            "text/plain": [
              "(torch.Size([10]),\n",
              " Parameter containing:\n",
              " tensor([-0.0184,  0.0303,  0.0066,  0.0264, -0.0113,  0.0145,  0.0216,  0.0336,\n",
              "         -0.0140, -0.0186], requires_grad=True))"
            ]
          },
          "metadata": {},
          "execution_count": 18
        }
      ]
    },
    {
      "cell_type": "markdown",
      "source": [
        "With the original initialized weights of the model:\n",
        "\n",
        "* The images records and the corresponding labels are extracted from the training dataset loader\n",
        "* The images records are returned in the form of 128 images with (1,28,28) as dimensions. And so it's converted into a shape understood by the Neural Network\n",
        "* The model predicts on the trainig data when the images data is passed to the modelm the predictions are stored in outputs variable"
      ],
      "metadata": {
        "id": "UIsQ3HW-zKNc"
      }
    },
    {
      "cell_type": "code",
      "source": [
        "for images, labels in train_loader:\n",
        "  print(labels, images.shape)\n",
        "  images = images.reshape(128, 784) # reshaping (128, 1, 28, 28) to (128, 784)\n",
        "  outputs = model(images)\n",
        "  break"
      ],
      "metadata": {
        "colab": {
          "base_uri": "https://localhost:8080/",
          "height": 0
        },
        "id": "V5VXarVgvqFT",
        "outputId": "f235e2b4-e60f-4c0a-8ac5-e264807aab47"
      },
      "execution_count": 19,
      "outputs": [
        {
          "output_type": "stream",
          "name": "stdout",
          "text": [
            "tensor([9, 5, 7, 4, 3, 7, 8, 4, 5, 9, 1, 9, 2, 2, 8, 7, 8, 8, 1, 9, 0, 3, 5, 7,\n",
            "        1, 1, 2, 1, 8, 7, 4, 1, 9, 5, 0, 9, 2, 8, 7, 4, 3, 7, 0, 6, 3, 6, 8, 3,\n",
            "        5, 6, 4, 1, 2, 9, 1, 8, 4, 2, 2, 0, 4, 6, 1, 9, 3, 7, 7, 3, 0, 3, 2, 2,\n",
            "        0, 6, 4, 5, 2, 7, 7, 9, 6, 6, 4, 1, 5, 6, 1, 4, 3, 1, 6, 7, 1, 7, 6, 1,\n",
            "        9, 8, 6, 5, 8, 1, 8, 6, 0, 1, 0, 7, 7, 8, 8, 5, 3, 0, 6, 7, 7, 0, 7, 7,\n",
            "        6, 6, 6, 9, 2, 4, 0, 2]) torch.Size([128, 1, 28, 28])\n"
          ]
        }
      ]
    },
    {
      "cell_type": "markdown",
      "source": [
        "\n",
        "\n",
        "---\n",
        "\n"
      ],
      "metadata": {
        "id": "7zbHYioQ0nkk"
      }
    },
    {
      "cell_type": "markdown",
      "source": [
        "#### Initializing the Model\n",
        "\n",
        "* In the constructor of the model, a Linear Layers is added with an input size of 784 and number of classes to be predicted are 10\n",
        "* Reshaping the data to (784)  and passing it into the linear layer and finally returning the outputs"
      ],
      "metadata": {
        "id": "sF5SZ9by0CJZ"
      }
    },
    {
      "cell_type": "code",
      "source": [
        "class MnistModel(nn.Module):\n",
        "  def __init__(self):\n",
        "    super().__init__()\n",
        "    self.linear = nn.Linear(input_size, num_classes)\n",
        "  def forward(self, xb):\n",
        "    xb = xb.reshape(-1, 784)\n",
        "    out = self.linear(xb)\n",
        "    return out\n",
        "model = MnistModel()"
      ],
      "metadata": {
        "id": "gC1XVR10wA7W"
      },
      "execution_count": 76,
      "outputs": []
    },
    {
      "cell_type": "markdown",
      "source": [
        "Inspecting the model linear layer structure"
      ],
      "metadata": {
        "id": "TincD3IV0q5J"
      }
    },
    {
      "cell_type": "code",
      "source": [
        "model.linear"
      ],
      "metadata": {
        "colab": {
          "base_uri": "https://localhost:8080/",
          "height": 0
        },
        "id": "USmKbLrl3gxw",
        "outputId": "60b7b848-d9fb-4ace-e67d-ffb3f498ef2f"
      },
      "execution_count": 77,
      "outputs": [
        {
          "output_type": "execute_result",
          "data": {
            "text/plain": [
              "Linear(in_features=784, out_features=10, bias=True)"
            ]
          },
          "metadata": {},
          "execution_count": 77
        }
      ]
    },
    {
      "cell_type": "markdown",
      "source": [
        "* Inspecting the shapes of the initial weights and bias of the Linear Layer of the model\n",
        "* Inspecting the weights and biases of the model using the `model.parameters()` functions"
      ],
      "metadata": {
        "id": "1IIBLH7o008w"
      }
    },
    {
      "cell_type": "code",
      "source": [
        "print(model.linear.weight.shape, model.linear.bias.shape)\n",
        "list(model.parameters())"
      ],
      "metadata": {
        "colab": {
          "base_uri": "https://localhost:8080/",
          "height": 0
        },
        "id": "jL2tggS24Yw-",
        "outputId": "d3ca7dc3-f4c5-4c73-f47b-43c56bdfcd08"
      },
      "execution_count": 22,
      "outputs": [
        {
          "output_type": "stream",
          "name": "stdout",
          "text": [
            "torch.Size([10, 784]) torch.Size([10])\n"
          ]
        },
        {
          "output_type": "execute_result",
          "data": {
            "text/plain": [
              "[Parameter containing:\n",
              " tensor([[-0.0346, -0.0170,  0.0215,  ..., -0.0307,  0.0356,  0.0157],\n",
              "         [ 0.0306, -0.0288, -0.0289,  ...,  0.0147, -0.0078,  0.0040],\n",
              "         [ 0.0056,  0.0014, -0.0105,  ...,  0.0254, -0.0049,  0.0321],\n",
              "         ...,\n",
              "         [-0.0286,  0.0323, -0.0082,  ...,  0.0154, -0.0312,  0.0233],\n",
              "         [ 0.0350, -0.0336, -0.0349,  ...,  0.0090,  0.0049,  0.0146],\n",
              "         [ 0.0041,  0.0248,  0.0022,  ..., -0.0274,  0.0223,  0.0205]],\n",
              "        requires_grad=True),\n",
              " Parameter containing:\n",
              " tensor([-0.0167,  0.0208, -0.0343, -0.0323, -0.0006,  0.0129, -0.0266,  0.0136,\n",
              "         -0.0120, -0.0024], requires_grad=True)]"
            ]
          },
          "metadata": {},
          "execution_count": 22
        }
      ]
    },
    {
      "cell_type": "markdown",
      "source": [
        "\n",
        "\n",
        "---\n",
        "\n"
      ],
      "metadata": {
        "id": "ncue_K2V2yAG"
      }
    },
    {
      "cell_type": "markdown",
      "source": [
        "#### Model Predictions\n",
        "\n",
        "* Extracting the images and labels data from training data loader and passing it into the model for prediction\n",
        "* The predictions are stored in the outputs variable\n",
        "* Outputs variable is containing the data for 128 images from 1st batch\n",
        "* It's containing the weighted sum of the pixel data including the bias for each of the 10 classes for each image"
      ],
      "metadata": {
        "id": "T-FPVGsC1_eO"
      }
    },
    {
      "cell_type": "code",
      "source": [
        "for images, labels in train_loader:\n",
        "  outputs = model(images)\n",
        "  break\n",
        "# Outputs for 128 images for each of the 10 classes\n",
        "print('outputs.shape : ',outputs.shape)\n",
        "print('Sample outputs : ',outputs.data)"
      ],
      "metadata": {
        "colab": {
          "base_uri": "https://localhost:8080/",
          "height": 0
        },
        "id": "5NdXPxdz4jcX",
        "outputId": "f11b6c2f-5b55-4c37-ce0e-6f2d107cadf9"
      },
      "execution_count": 23,
      "outputs": [
        {
          "output_type": "stream",
          "name": "stdout",
          "text": [
            "outputs.shape :  torch.Size([128, 10])\n",
            "Sample outputs :  tensor([[-0.1915,  0.1377, -0.1440,  ...,  0.2962, -0.0069, -0.1654],\n",
            "        [ 0.1117,  0.4058, -0.3833,  ...,  0.5875,  0.0226, -0.1216],\n",
            "        [ 0.1162,  0.1235,  0.0454,  ...,  0.0697, -0.1791,  0.2182],\n",
            "        ...,\n",
            "        [-0.2570,  0.0227, -0.2001,  ...,  0.2298, -0.3910, -0.0931],\n",
            "        [ 0.2805, -0.1193, -0.0186,  ...,  0.3970, -0.0898,  0.1806],\n",
            "        [ 0.0663,  0.0218, -0.0297,  ...,  0.2872, -0.3791,  0.0543]])\n"
          ]
        }
      ]
    },
    {
      "cell_type": "markdown",
      "source": [
        "Computing the softmax function on each of the computed sum for each of the 10 classes for each of the 128 images, finally totalled over for all the classes leads to 1"
      ],
      "metadata": {
        "id": "OLbynHaK3p9B"
      }
    },
    {
      "cell_type": "code",
      "source": [
        "# Apply softmax for each output row\n",
        "probs = F.softmax(outputs, dim=1)\n",
        "print('Probabilities Shape : ', probs.shape)\n",
        "print('Sample Probabilities : ', probs.data)\n",
        "print(\"Sum : \", torch.sum(probs, dim=1))"
      ],
      "metadata": {
        "colab": {
          "base_uri": "https://localhost:8080/",
          "height": 0
        },
        "id": "IR6ULIVc5hG3",
        "outputId": "5db7889c-0a37-470a-cdb9-2ffb00c2bdd7"
      },
      "execution_count": 82,
      "outputs": [
        {
          "output_type": "stream",
          "name": "stdout",
          "text": [
            "Probabilities Shape :  torch.Size([128, 10])\n",
            "Sample Probabilities :  tensor([[0.0832, 0.1156, 0.0872,  ..., 0.1354, 0.1000, 0.0854],\n",
            "        [0.0998, 0.1339, 0.0608,  ..., 0.1606, 0.0913, 0.0790],\n",
            "        [0.1043, 0.1051, 0.0972,  ..., 0.0996, 0.0777, 0.1155],\n",
            "        ...,\n",
            "        [0.0765, 0.1012, 0.0810,  ..., 0.1245, 0.0669, 0.0901],\n",
            "        [0.1269, 0.0851, 0.0941,  ..., 0.1426, 0.0876, 0.1148],\n",
            "        [0.1028, 0.0983, 0.0934,  ..., 0.1282, 0.0659, 0.1016]])\n",
            "Sum :  tensor([1.0000, 1.0000, 1.0000, 1.0000, 1.0000, 1.0000, 1.0000, 1.0000, 1.0000,\n",
            "        1.0000, 1.0000, 1.0000, 1.0000, 1.0000, 1.0000, 1.0000, 1.0000, 1.0000,\n",
            "        1.0000, 1.0000, 1.0000, 1.0000, 1.0000, 1.0000, 1.0000, 1.0000, 1.0000,\n",
            "        1.0000, 1.0000, 1.0000, 1.0000, 1.0000, 1.0000, 1.0000, 1.0000, 1.0000,\n",
            "        1.0000, 1.0000, 1.0000, 1.0000, 1.0000, 1.0000, 1.0000, 1.0000, 1.0000,\n",
            "        1.0000, 1.0000, 1.0000, 1.0000, 1.0000, 1.0000, 1.0000, 1.0000, 1.0000,\n",
            "        1.0000, 1.0000, 1.0000, 1.0000, 1.0000, 1.0000, 1.0000, 1.0000, 1.0000,\n",
            "        1.0000, 1.0000, 1.0000, 1.0000, 1.0000, 1.0000, 1.0000, 1.0000, 1.0000,\n",
            "        1.0000, 1.0000, 1.0000, 1.0000, 1.0000, 1.0000, 1.0000, 1.0000, 1.0000,\n",
            "        1.0000, 1.0000, 1.0000, 1.0000, 1.0000, 1.0000, 1.0000, 1.0000, 1.0000,\n",
            "        1.0000, 1.0000, 1.0000, 1.0000, 1.0000, 1.0000, 1.0000, 1.0000, 1.0000,\n",
            "        1.0000, 1.0000, 1.0000, 1.0000, 1.0000, 1.0000, 1.0000, 1.0000, 1.0000,\n",
            "        1.0000, 1.0000, 1.0000, 1.0000, 1.0000, 1.0000, 1.0000, 1.0000, 1.0000,\n",
            "        1.0000, 1.0000, 1.0000, 1.0000, 1.0000, 1.0000, 1.0000, 1.0000, 1.0000,\n",
            "        1.0000, 1.0000], grad_fn=<SumBackward1>)\n"
          ]
        }
      ]
    },
    {
      "cell_type": "markdown",
      "source": [
        "Using the `torch.max()` function and over full row, getting the maximum probability for out of all the 10 classes and extracting the class"
      ],
      "metadata": {
        "id": "16gra4Vq4cHY"
      }
    },
    {
      "cell_type": "code",
      "source": [
        "max_probs, preds = torch.max(probs, dim=1)\n",
        "print(preds)\n",
        "print(max_probs)"
      ],
      "metadata": {
        "colab": {
          "base_uri": "https://localhost:8080/",
          "height": 0
        },
        "id": "a4CSjytF8xhZ",
        "outputId": "903f6850-64bf-4c29-e01f-ab34ce739916"
      },
      "execution_count": 25,
      "outputs": [
        {
          "output_type": "stream",
          "name": "stdout",
          "text": [
            "tensor([7, 7, 9, 7, 7, 3, 7, 9, 7, 7, 7, 7, 7, 7, 0, 7, 7, 1, 3, 3, 5, 3, 7, 7,\n",
            "        9, 2, 7, 1, 2, 3, 3, 3, 2, 7, 8, 1, 8, 1, 3, 7, 3, 2, 7, 8, 3, 3, 7, 7,\n",
            "        7, 7, 7, 3, 7, 7, 7, 7, 5, 7, 3, 7, 3, 3, 3, 3, 7, 0, 8, 4, 3, 3, 7, 1,\n",
            "        7, 5, 7, 9, 0, 7, 7, 9, 0, 7, 5, 7, 7, 5, 5, 2, 7, 7, 7, 7, 3, 7, 4, 3,\n",
            "        3, 7, 7, 1, 3, 3, 4, 8, 3, 3, 7, 6, 3, 7, 7, 7, 5, 7, 7, 7, 7, 7, 7, 3,\n",
            "        7, 7, 3, 3, 7, 3, 7, 7])\n",
            "tensor([0.1354, 0.1606, 0.1155, 0.1454, 0.1157, 0.1246, 0.1283, 0.1193, 0.1800,\n",
            "        0.1348, 0.1360, 0.1206, 0.1346, 0.1281, 0.1125, 0.1378, 0.1307, 0.1304,\n",
            "        0.1314, 0.1467, 0.1181, 0.1172, 0.1379, 0.1429, 0.1255, 0.1556, 0.1277,\n",
            "        0.1296, 0.1421, 0.1384, 0.1261, 0.1220, 0.1156, 0.1663, 0.1410, 0.1220,\n",
            "        0.1265, 0.1265, 0.1274, 0.1230, 0.1262, 0.1308, 0.1550, 0.1169, 0.1439,\n",
            "        0.1232, 0.1216, 0.1284, 0.1393, 0.1431, 0.1365, 0.1217, 0.1376, 0.1618,\n",
            "        0.1240, 0.1297, 0.1460, 0.1336, 0.1198, 0.1407, 0.1207, 0.1213, 0.1527,\n",
            "        0.1208, 0.1187, 0.1566, 0.1280, 0.1251, 0.1382, 0.1616, 0.1402, 0.1262,\n",
            "        0.1345, 0.1284, 0.1211, 0.1144, 0.1308, 0.1286, 0.1170, 0.1177, 0.1233,\n",
            "        0.1251, 0.1257, 0.1154, 0.1157, 0.1208, 0.1122, 0.1393, 0.1205, 0.1789,\n",
            "        0.1237, 0.1432, 0.1320, 0.1565, 0.1421, 0.1180, 0.1287, 0.1562, 0.1389,\n",
            "        0.1338, 0.1207, 0.1127, 0.1443, 0.1255, 0.1332, 0.1264, 0.1238, 0.1228,\n",
            "        0.1269, 0.1651, 0.1444, 0.1577, 0.1261, 0.1600, 0.1142, 0.1495, 0.1392,\n",
            "        0.1507, 0.1408, 0.1357, 0.1362, 0.1494, 0.1233, 0.1266, 0.1327, 0.1329,\n",
            "        0.1426, 0.1282], grad_fn=<MaxBackward0>)\n"
          ]
        }
      ]
    },
    {
      "cell_type": "markdown",
      "source": [
        "Existing Labels of the 128 images from the train_loader"
      ],
      "metadata": {
        "id": "7hf5WGqG4_0-"
      }
    },
    {
      "cell_type": "code",
      "source": [
        "labels"
      ],
      "metadata": {
        "colab": {
          "base_uri": "https://localhost:8080/",
          "height": 0
        },
        "id": "k30kBJHq9fYM",
        "outputId": "bb00e6e7-3859-4271-f052-3ae2ea6db8d6"
      },
      "execution_count": 26,
      "outputs": [
        {
          "output_type": "execute_result",
          "data": {
            "text/plain": [
              "tensor([3, 3, 6, 2, 4, 8, 8, 3, 3, 9, 3, 7, 4, 1, 7, 8, 8, 3, 9, 6, 6, 4, 5, 0,\n",
              "        8, 0, 7, 8, 0, 6, 6, 3, 2, 7, 3, 0, 1, 3, 1, 8, 5, 0, 7, 1, 8, 0, 6, 5,\n",
              "        7, 8, 9, 1, 3, 3, 2, 1, 0, 2, 5, 0, 9, 9, 8, 3, 1, 9, 3, 7, 8, 8, 5, 0,\n",
              "        9, 0, 8, 1, 5, 3, 6, 1, 9, 7, 2, 2, 9, 4, 9, 5, 3, 8, 1, 3, 8, 7, 7, 9,\n",
              "        5, 2, 7, 5, 1, 9, 7, 1, 9, 1, 9, 8, 5, 0, 5, 4, 6, 4, 7, 4, 7, 4, 5, 5,\n",
              "        2, 4, 1, 9, 5, 8, 5, 4])"
            ]
          },
          "metadata": {},
          "execution_count": 26
        }
      ]
    },
    {
      "cell_type": "markdown",
      "source": [
        "Matching the predictions with the Labels"
      ],
      "metadata": {
        "id": "dw-O6_r65QvU"
      }
    },
    {
      "cell_type": "code",
      "source": [
        "preds == labels"
      ],
      "metadata": {
        "colab": {
          "base_uri": "https://localhost:8080/",
          "height": 0
        },
        "id": "Bw3vS1LWCLQm",
        "outputId": "20b35e12-9042-4858-bd4b-7c48134477b2"
      },
      "execution_count": 27,
      "outputs": [
        {
          "output_type": "execute_result",
          "data": {
            "text/plain": [
              "tensor([False, False, False, False, False, False, False, False, False, False,\n",
              "        False,  True, False, False, False, False, False, False, False, False,\n",
              "        False, False, False, False, False, False,  True, False, False, False,\n",
              "        False,  True,  True,  True, False, False, False, False, False, False,\n",
              "        False, False,  True, False, False, False, False, False,  True, False,\n",
              "        False, False, False, False, False, False, False, False, False, False,\n",
              "        False, False, False,  True, False, False, False, False, False, False,\n",
              "        False, False, False, False, False, False, False, False, False, False,\n",
              "        False,  True, False, False, False, False, False, False, False, False,\n",
              "        False, False, False,  True, False, False, False, False,  True, False,\n",
              "        False, False, False, False, False, False, False, False, False, False,\n",
              "        False, False, False, False,  True, False,  True, False, False, False,\n",
              "        False, False, False, False, False, False, False, False])"
            ]
          },
          "metadata": {},
          "execution_count": 27
        }
      ]
    },
    {
      "cell_type": "markdown",
      "source": [
        "Getting the sum of matched labels"
      ],
      "metadata": {
        "id": "kgZ5HDZ75Vto"
      }
    },
    {
      "cell_type": "code",
      "source": [
        "torch.sum(preds==labels)"
      ],
      "metadata": {
        "colab": {
          "base_uri": "https://localhost:8080/",
          "height": 0
        },
        "id": "rFjnGqOSCUCv",
        "outputId": "4b13437f-2ac3-4a03-a212-5508e4ddc68d"
      },
      "execution_count": 28,
      "outputs": [
        {
          "output_type": "execute_result",
          "data": {
            "text/plain": [
              "tensor(13)"
            ]
          },
          "metadata": {},
          "execution_count": 28
        }
      ]
    },
    {
      "cell_type": "markdown",
      "source": [
        "Computing the accuracy score of the predictions\n",
        "* First extracting the matched classes probabilities and the prediction classes using the `torch.max()` function in a specfic row\n",
        "* Computing the accuracy manually with the matched count by the total number of predictions"
      ],
      "metadata": {
        "id": "PUSJ0dBz5clO"
      }
    },
    {
      "cell_type": "code",
      "source": [
        "def accuracy(outputs, labels):\n",
        "  _, preds = torch.max(outputs, dim=1)\n",
        "  return torch.tensor(torch.sum(preds==labels).item()/len(preds))"
      ],
      "metadata": {
        "id": "xPoaWgbT97bI"
      },
      "execution_count": 29,
      "outputs": []
    },
    {
      "cell_type": "code",
      "source": [
        "accuracy(outputs, labels)"
      ],
      "metadata": {
        "colab": {
          "base_uri": "https://localhost:8080/",
          "height": 0
        },
        "id": "3k0vg7acCC8L",
        "outputId": "baf7bfff-e236-44b4-fa00-39bae4216729"
      },
      "execution_count": 30,
      "outputs": [
        {
          "output_type": "execute_result",
          "data": {
            "text/plain": [
              "tensor(0.1016)"
            ]
          },
          "metadata": {},
          "execution_count": 30
        }
      ]
    },
    {
      "cell_type": "markdown",
      "source": [
        "\n",
        "\n",
        "---\n",
        "\n"
      ],
      "metadata": {
        "id": "GOEc8A32594r"
      }
    },
    {
      "cell_type": "markdown",
      "source": [
        "#### Loss function\n",
        "\n",
        "* Initializing a loss function object which is cross_entropy"
      ],
      "metadata": {
        "id": "dT7Ou27r57G7"
      }
    },
    {
      "cell_type": "code",
      "source": [
        "loss_fn = F.cross_entropy"
      ],
      "metadata": {
        "id": "0-1CHakECadO"
      },
      "execution_count": 31,
      "outputs": []
    },
    {
      "cell_type": "code",
      "source": [
        "outputs"
      ],
      "metadata": {
        "colab": {
          "base_uri": "https://localhost:8080/",
          "height": 0
        },
        "id": "zJwV1mWNYICH",
        "outputId": "da168bb2-3148-4197-c3be-e1966f4c8323"
      },
      "execution_count": 32,
      "outputs": [
        {
          "output_type": "execute_result",
          "data": {
            "text/plain": [
              "tensor([[-0.1915,  0.1377, -0.1440,  ...,  0.2962, -0.0069, -0.1654],\n",
              "        [ 0.1117,  0.4058, -0.3833,  ...,  0.5875,  0.0226, -0.1216],\n",
              "        [ 0.1162,  0.1235,  0.0454,  ...,  0.0697, -0.1791,  0.2182],\n",
              "        ...,\n",
              "        [-0.2570,  0.0227, -0.2001,  ...,  0.2298, -0.3910, -0.0931],\n",
              "        [ 0.2805, -0.1193, -0.0186,  ...,  0.3970, -0.0898,  0.1806],\n",
              "        [ 0.0663,  0.0218, -0.0297,  ...,  0.2872, -0.3791,  0.0543]],\n",
              "       grad_fn=<AddmmBackward0>)"
            ]
          },
          "metadata": {},
          "execution_count": 32
        }
      ]
    },
    {
      "cell_type": "markdown",
      "source": [
        "* Computing the loss function value with the mismatch of the values of outputs and labels"
      ],
      "metadata": {
        "id": "BKu-MsBV6QQA"
      }
    },
    {
      "cell_type": "code",
      "source": [
        "loss = loss_fn(outputs, labels)\n",
        "print(loss)"
      ],
      "metadata": {
        "colab": {
          "base_uri": "https://localhost:8080/",
          "height": 0
        },
        "id": "Q8p6Yi2CYCOw",
        "outputId": "4c0ece9d-6632-43d8-d862-07bce89454ec"
      },
      "execution_count": 33,
      "outputs": [
        {
          "output_type": "stream",
          "name": "stdout",
          "text": [
            "tensor(2.3291, grad_fn=<NllLossBackward0>)\n"
          ]
        }
      ]
    },
    {
      "cell_type": "markdown",
      "source": [
        "\n",
        "\n",
        "---\n",
        "\n"
      ],
      "metadata": {
        "id": "DSCjWaZo8Glw"
      }
    },
    {
      "cell_type": "markdown",
      "source": [
        "\n",
        "> **Algorithm to Train using the Training Data using multiple epochs**\n",
        "\n"
      ],
      "metadata": {
        "id": "WRxN2xsL6aE_"
      }
    },
    {
      "cell_type": "markdown",
      "source": [
        "```\n",
        "for epoch in range(num_epochs):\n",
        "  # Training phase\n",
        "  for batch in train_loader:\n",
        "    # Generate predictions\n",
        "    # Calculate loss\n",
        "    # Compute gradients\n",
        "    # Update weights\n",
        "    # Reset Gradients\n",
        "\n",
        "  # Validation phase\n",
        "  for batch in val_loader:\n",
        "    # Generate predictions\n",
        "    # Calculate loss\n",
        "    # Calculate metrics (accuracy etc.)\n",
        "  # Calculate average validation loss and metrics\n",
        "\n",
        "  # Log epoch, loss and metrics for inspection\n",
        "\n",
        "```"
      ],
      "metadata": {
        "id": "z1jtvMm9aYDi"
      }
    },
    {
      "cell_type": "markdown",
      "source": [
        "\n",
        "\n",
        "---\n",
        "\n",
        "#### Model architecture\n",
        "\n",
        "* Initialize a linear layer\n",
        "* Reshaping the image data to a list of 784 pixels data\n",
        "* Applying the linear layer with 784 weights on the pixels data and returning the output predictions.\n",
        "* Passing the output prediction labels and the actual labels in a cross entropy loss function is also done to return the loss of the current prediction step\n",
        "* From the validation step, after generating the predictions, the loss and accuracy of the current model weights w.r.t the validation data is calculated\n",
        "* At the end of an epoch, the losses/accuracies are averaged from each of the batches from validation step and the report is displayed"
      ],
      "metadata": {
        "id": "ovw592bC8CwW"
      }
    },
    {
      "cell_type": "code",
      "source": [
        "class MnistModel(nn.Module):\n",
        "  def __init__(self):\n",
        "    super().__init__()\n",
        "    self.linear = nn.Linear(input_size, num_classes)\n",
        "\n",
        "  def forward(self, xb):\n",
        "    xb = xb.reshape(-1, 784)\n",
        "    out = self.linear(xb)\n",
        "    return out\n",
        "\n",
        "  def training_step(self, batch):\n",
        "    images, labels = batch\n",
        "    out = self(images) # Generate Predictions\n",
        "    loss = F.cross_entropy(out, labels) # Generate Loss\n",
        "    return loss\n",
        "\n",
        "  def validation_step(self, batch):\n",
        "    images, labels = batch\n",
        "    # print(images.shape)\n",
        "    out = self(images) # Generate Predictions\n",
        "    loss = F.cross_entropy(out, labels) # Calculate loss\n",
        "    acc = accuracy(out, labels) # Calculate accuracy\n",
        "    return {'val_loss':loss, 'val_acc':acc}\n",
        "\n",
        "  def validation_epoch_end(self, outputs):\n",
        "    batch_losses = [x['val_loss'] for x in outputs]\n",
        "    epoch_loss = torch.stack(batch_losses).mean() # Combine losses\n",
        "    batch_accs = [x['val_acc'] for x in outputs]\n",
        "    epoch_acc = torch.stack(batch_accs).mean()\n",
        "    return {'val_loss':epoch_loss.item(), 'val_acc':epoch_acc.item()}\n",
        "\n",
        "  def epoch_end(self, epoch, result):\n",
        "    print(\"Epoch [{}], val_loss:{:.4f}, val_acc: {:.4f}\".format(epoch, result['val_loss'], result['val_acc']))\n",
        "\n",
        "model=MnistModel()"
      ],
      "metadata": {
        "id": "cnJnEla_bbzN"
      },
      "execution_count": 88,
      "outputs": []
    },
    {
      "cell_type": "markdown",
      "source": [
        "Creation of a function to evaluate the model on validation data\n",
        "\n",
        "* By extracting a batch of image data from validation data loader and evaluating the current model with the validation data\n",
        "* Extracting the outputs as validation loss/accuracy and adding them to a list\n",
        "* from the seperate model metrics from different batches, accumulating the means of the loss/accuracy and going forward with those metrics at the end of the epoch and showing it in a formatted string"
      ],
      "metadata": {
        "id": "NGzbwLNI6-Md"
      }
    },
    {
      "cell_type": "code",
      "source": [
        "def evaluate(model, val_loader):\n",
        "  outputs = [model.validation_step(batch) for batch in val_loader]\n",
        "  return model.validation_epoch_end(outputs)"
      ],
      "metadata": {
        "id": "6paOYAMNcO4A"
      },
      "execution_count": 89,
      "outputs": []
    },
    {
      "cell_type": "markdown",
      "source": [
        "Creation of the fit method to update the training weights of the model\n",
        "\n",
        "* An optimizer function using Stochastic Gradient Descent is initialized using the initial model parameters and learing rate provided\n",
        "* For each epoch in the specified number of epoch, the model is trained over all the batches of the training data\n",
        "  * The loss from a specific batch is returned and then back propagation is done to correct the model weights\n",
        "  * The optimizer is also used to optimize the weights after computing the gradients\n",
        "  * After the step, the gradients are turned zero\n",
        "* After the model weights have been trained for the current epoch for all batches of training data, the results are stacked for the validation data and at the end of an epoch the consolidated data for all the validation data is displayed, including the addition of result into the history"
      ],
      "metadata": {
        "id": "xjtgiAOU_Z6l"
      }
    },
    {
      "cell_type": "code",
      "source": [
        "def fit(epochs, lr, model, train_loader, val_loader, opt_func=torch.optim.SGD):\n",
        "  optimizer = opt_func(model.parameters(), lr)\n",
        "  history = []\n",
        "  for epoch in range(epochs):\n",
        "    # Training phase\n",
        "    for batch in train_loader:\n",
        "      loss = model.training_step(batch)\n",
        "      loss.backward()\n",
        "      optimizer.step()\n",
        "      optimizer.zero_grad()\n",
        "    # Validation phase\n",
        "    result = evaluate(model, val_loader)\n",
        "    model.epoch_end(epoch,result)\n",
        "    history.append(result)\n",
        "  return history"
      ],
      "metadata": {
        "id": "SQ-M4AmPak71"
      },
      "execution_count": 90,
      "outputs": []
    },
    {
      "cell_type": "markdown",
      "source": [
        "The evaluation method is checked with one batch of validation data and the initial weights of the model"
      ],
      "metadata": {
        "id": "AiI73ft4BuQ6"
      }
    },
    {
      "cell_type": "code",
      "source": [
        "result0 = evaluate(model, val_loader)\n",
        "result0"
      ],
      "metadata": {
        "colab": {
          "base_uri": "https://localhost:8080/",
          "height": 0
        },
        "id": "h-UIgLI4QNZG",
        "outputId": "ac2ec3c3-3a33-4161-e725-6b05927a82c8"
      },
      "execution_count": 91,
      "outputs": [
        {
          "output_type": "execute_result",
          "data": {
            "text/plain": [
              "{'val_loss': 2.3205418586730957, 'val_acc': 0.13370253145694733}"
            ]
          },
          "metadata": {},
          "execution_count": 91
        }
      ]
    },
    {
      "cell_type": "markdown",
      "source": [
        "\n",
        "\n",
        "---\n",
        "#### Model Training with epochs\n"
      ],
      "metadata": {
        "id": "AUe6eB64CHh_"
      }
    },
    {
      "cell_type": "markdown",
      "source": [
        "The fit method is run 4 times with 5 epochs and 0.001 learning rate"
      ],
      "metadata": {
        "id": "nhlWx_LrB8dV"
      }
    },
    {
      "cell_type": "code",
      "source": [
        "history1 = fit(5, 0.001, model, train_loader, val_loader)"
      ],
      "metadata": {
        "colab": {
          "base_uri": "https://localhost:8080/",
          "height": 0
        },
        "id": "rA2v3H4mUQ91",
        "outputId": "444c53af-b4b7-4e6a-85e4-d73b30757f32"
      },
      "execution_count": 50,
      "outputs": [
        {
          "output_type": "stream",
          "name": "stdout",
          "text": [
            "Epoch [0], val_loss:0.7359, val_acc: 0.8725\n",
            "Epoch [1], val_loss:1.0690, val_acc: 0.8861\n",
            "Epoch [2], val_loss:1.2856, val_acc: 0.8946\n",
            "Epoch [3], val_loss:1.4532, val_acc: 0.8964\n",
            "Epoch [4], val_loss:1.5146, val_acc: 0.9015\n"
          ]
        }
      ]
    },
    {
      "cell_type": "code",
      "source": [
        "history2 = fit(5, 0.001, model, train_loader, val_loader)"
      ],
      "metadata": {
        "colab": {
          "base_uri": "https://localhost:8080/",
          "height": 0
        },
        "id": "mK7Vinf8eZpK",
        "outputId": "942a6d86-e7bd-4727-89fe-70f33cb6bebb"
      },
      "execution_count": 51,
      "outputs": [
        {
          "output_type": "stream",
          "name": "stdout",
          "text": [
            "Epoch [0], val_loss:1.6043, val_acc: 0.8986\n",
            "Epoch [1], val_loss:1.6879, val_acc: 0.8990\n",
            "Epoch [2], val_loss:1.7327, val_acc: 0.9005\n",
            "Epoch [3], val_loss:1.8426, val_acc: 0.8967\n",
            "Epoch [4], val_loss:1.8873, val_acc: 0.8959\n"
          ]
        }
      ]
    },
    {
      "cell_type": "code",
      "source": [
        "history3 = fit(5, 0.001, model, train_loader, val_loader)"
      ],
      "metadata": {
        "colab": {
          "base_uri": "https://localhost:8080/",
          "height": 0
        },
        "id": "FX125tl7fPJN",
        "outputId": "5edd46c8-81b2-4846-fab9-acba1a6050bd"
      },
      "execution_count": 52,
      "outputs": [
        {
          "output_type": "stream",
          "name": "stdout",
          "text": [
            "Epoch [0], val_loss:1.9456, val_acc: 0.8934\n",
            "Epoch [1], val_loss:1.9919, val_acc: 0.8962\n",
            "Epoch [2], val_loss:2.0151, val_acc: 0.8991\n",
            "Epoch [3], val_loss:2.0776, val_acc: 0.8973\n",
            "Epoch [4], val_loss:2.1356, val_acc: 0.8921\n"
          ]
        }
      ]
    },
    {
      "cell_type": "code",
      "source": [
        "history4 = fit(5, 0.001, model, train_loader, val_loader)"
      ],
      "metadata": {
        "colab": {
          "base_uri": "https://localhost:8080/",
          "height": 0
        },
        "id": "JKKxXduafjl-",
        "outputId": "7173f131-f615-45eb-c405-d618512d4fe6"
      },
      "execution_count": 53,
      "outputs": [
        {
          "output_type": "stream",
          "name": "stdout",
          "text": [
            "Epoch [0], val_loss:2.1558, val_acc: 0.8923\n",
            "Epoch [1], val_loss:2.1882, val_acc: 0.8949\n",
            "Epoch [2], val_loss:2.2201, val_acc: 0.8877\n",
            "Epoch [3], val_loss:2.2283, val_acc: 0.8880\n",
            "Epoch [4], val_loss:2.2818, val_acc: 0.8839\n"
          ]
        }
      ]
    },
    {
      "cell_type": "markdown",
      "source": [
        "The loss/accuracies results are consolidated in a list and then plotted in a graph with the data vs no of epochs"
      ],
      "metadata": {
        "id": "mlvMNs52CO01"
      }
    },
    {
      "cell_type": "code",
      "source": [
        "history = [result0] + history1 + history2 + history3 + history4\n",
        "accuracies = [result['val_acc'] for result in history]\n",
        "losses = [result['val_loss'] for result in history]\n",
        "plt.plot(accuracies, '-x')\n",
        "plt.plot(losses, '-.')\n",
        "plt.xlabel('epoch')\n",
        "plt.ylabel('accuracy')\n",
        "plt.title('Accuracy vs no of epochs')"
      ],
      "metadata": {
        "colab": {
          "base_uri": "https://localhost:8080/",
          "height": 489
        },
        "id": "2IYkCeX5flqJ",
        "outputId": "4900d3f6-31c3-46a5-b1e2-114c9a1be06e"
      },
      "execution_count": 84,
      "outputs": [
        {
          "output_type": "execute_result",
          "data": {
            "text/plain": [
              "Text(0.5, 1.0, 'Accuracy vs no of epochs')"
            ]
          },
          "metadata": {},
          "execution_count": 84
        },
        {
          "output_type": "display_data",
          "data": {
            "text/plain": [
              "<Figure size 640x480 with 1 Axes>"
            ],
            "image/png": "[encoded data removed]"
          },
          "metadata": {}
        }
      ]
    },
    {
      "cell_type": "markdown",
      "source": [
        "\n",
        "\n",
        "---\n",
        "\n",
        "#### Model Testing on Testing Data\n",
        "\n",
        "The testing dataset is download and stored in 'data' folder in disk and transformed into tensors"
      ],
      "metadata": {
        "id": "sD28B_xhCqZU"
      }
    },
    {
      "cell_type": "code",
      "source": [
        "test_dataset = MNIST(root='data/', train=False, transform=transforms.ToTensor())"
      ],
      "metadata": {
        "id": "oqxMP6Aghb_M"
      },
      "execution_count": 55,
      "outputs": []
    },
    {
      "cell_type": "markdown",
      "source": [
        "Visualizing an image from testing dataset"
      ],
      "metadata": {
        "id": "rOk9FPKpC5b6"
      }
    },
    {
      "cell_type": "code",
      "source": [
        "img, label = test_dataset[0]\n",
        "plt.imshow(img[0], cmap='gray')\n",
        "print('Shape: ', img.shape)\n",
        "print('Label: ', label)"
      ],
      "metadata": {
        "colab": {
          "base_uri": "https://localhost:8080/",
          "height": 465
        },
        "id": "cd1z1lUJjean",
        "outputId": "f00678e7-5844-428f-87b5-d50d203366a9"
      },
      "execution_count": 56,
      "outputs": [
        {
          "output_type": "stream",
          "name": "stdout",
          "text": [
            "Shape:  torch.Size([1, 28, 28])\n",
            "Label:  7\n"
          ]
        },
        {
          "output_type": "display_data",
          "data": {
            "text/plain": [
              "<Figure size 640x480 with 1 Axes>"
            ],
            "image/png": "[encoded data removed]"
          },
          "metadata": {}
        }
      ]
    },
    {
      "cell_type": "markdown",
      "source": [
        "Adding an extra dimension so that batches can be made in an existing image"
      ],
      "metadata": {
        "id": "bX3HPabPC_YM"
      }
    },
    {
      "cell_type": "code",
      "source": [
        "img.unsqueeze(0).shape"
      ],
      "metadata": {
        "colab": {
          "base_uri": "https://localhost:8080/",
          "height": 0
        },
        "id": "pSmy_bsCj8WV",
        "outputId": "c2cfc9a1-6ce4-4693-daa1-40a6564f88c1"
      },
      "execution_count": 57,
      "outputs": [
        {
          "output_type": "execute_result",
          "data": {
            "text/plain": [
              "torch.Size([1, 1, 28, 28])"
            ]
          },
          "metadata": {},
          "execution_count": 57
        }
      ]
    },
    {
      "cell_type": "markdown",
      "source": [
        "Making a predict image label function to predict an image label from a single image"
      ],
      "metadata": {
        "id": "q7PFC5RcEqDi"
      }
    },
    {
      "cell_type": "code",
      "source": [
        "def predict_image(img, model):\n",
        "  xb = img.unsqueeze(0) # Make a batch out of a single image\n",
        "  yb = model(xb)\n",
        "  print(yb)\n",
        "  _, preds = torch.max(yb, dim=1)\n",
        "  return preds[0].item()"
      ],
      "metadata": {
        "id": "fB-NdwVNjppx"
      },
      "execution_count": 58,
      "outputs": []
    },
    {
      "cell_type": "markdown",
      "source": [
        "Getting the outputs for each of the 10 classes and comparing the predicted and original label of the image along with the plotted image\n",
        "* For 4 example data"
      ],
      "metadata": {
        "id": "VctWRlevE4BL"
      }
    },
    {
      "cell_type": "code",
      "source": [
        "img, label = test_dataset[0]\n",
        "plt.imshow(img[0], cmap='gray')\n",
        "print('Label: ', label, 'Predicted: ', predict_image(img, model))"
      ],
      "metadata": {
        "colab": {
          "base_uri": "https://localhost:8080/",
          "height": 499
        },
        "id": "HCjx-lWkkRpG",
        "outputId": "f7bbf30a-4ac3-4060-894c-037a4378670c"
      },
      "execution_count": 59,
      "outputs": [
        {
          "output_type": "stream",
          "name": "stdout",
          "text": [
            "tensor([[ -17.6731, -176.1777,   11.9728,   87.4885,    2.9496,   55.8317,\n",
            "         -191.6719,  107.8675,   51.7197,   68.0269]],\n",
            "       grad_fn=<AddmmBackward0>)\n",
            "Label:  7 Predicted:  7\n"
          ]
        },
        {
          "output_type": "display_data",
          "data": {
            "text/plain": [
              "<Figure size 640x480 with 1 Axes>"
            ],
            "image/png": "[encoded data removed]"
          },
          "metadata": {}
        }
      ]
    },
    {
      "cell_type": "code",
      "source": [
        "img, label = test_dataset[10]\n",
        "plt.imshow(img[0], cmap='gray')\n",
        "print('Label: ', label, 'Predicted: ', predict_image(img, model))"
      ],
      "metadata": {
        "colab": {
          "base_uri": "https://localhost:8080/",
          "height": 499
        },
        "id": "wRNhMf3pklIA",
        "outputId": "655ce16e-0ee8-4c30-e471-7bcc1187c0bc"
      },
      "execution_count": 60,
      "outputs": [
        {
          "output_type": "stream",
          "name": "stdout",
          "text": [
            "tensor([[ 161.1853, -224.5736,   47.1975,   25.4146,  -33.1329,   70.8657,\n",
            "           -3.5267,  -79.3228,   38.9201,   -2.5395]],\n",
            "       grad_fn=<AddmmBackward0>)\n",
            "Label:  0 Predicted:  0\n"
          ]
        },
        {
          "output_type": "display_data",
          "data": {
            "text/plain": [
              "<Figure size 640x480 with 1 Axes>"
            ],
            "image/png": "[encoded data removed]"
          },
          "metadata": {}
        }
      ]
    },
    {
      "cell_type": "code",
      "source": [
        "img, label = test_dataset[193]\n",
        "plt.imshow(img[0], cmap='gray')\n",
        "print('Label: ', label, 'Predicted: ', predict_image(img, model))"
      ],
      "metadata": {
        "colab": {
          "base_uri": "https://localhost:8080/",
          "height": 499
        },
        "id": "fDqiZ97gkurh",
        "outputId": "8c90ff2f-2703-480e-e672-ed8d44fc70b9"
      },
      "execution_count": 61,
      "outputs": [
        {
          "output_type": "stream",
          "name": "stdout",
          "text": [
            "tensor([[-191.5083, -112.0225,    8.5950,   81.3619,   50.8355,   37.7134,\n",
            "          -39.0417,   47.0116,   50.5786,   66.9911]],\n",
            "       grad_fn=<AddmmBackward0>)\n",
            "Label:  9 Predicted:  3\n"
          ]
        },
        {
          "output_type": "display_data",
          "data": {
            "text/plain": [
              "<Figure size 640x480 with 1 Axes>"
            ],
            "image/png": "[encoded data removed]"
          },
          "metadata": {}
        }
      ]
    },
    {
      "cell_type": "code",
      "source": [
        "img, label = test_dataset[1839]\n",
        "plt.imshow(img[0], cmap='gray')\n",
        "print('Label: ', label, 'Predicted: ', predict_image(img, model))"
      ],
      "metadata": {
        "colab": {
          "base_uri": "https://localhost:8080/",
          "height": 499
        },
        "id": "72HLvnkakxN5",
        "outputId": "4ade3b38-c6a4-4fd3-e290-77746cb21f41"
      },
      "execution_count": 62,
      "outputs": [
        {
          "output_type": "stream",
          "name": "stdout",
          "text": [
            "tensor([[ -78.7803,  -65.9204,   77.2127,   81.6048,  -30.2238,   56.4911,\n",
            "         -102.1957,   -4.1382,   81.4081,  -15.1275]],\n",
            "       grad_fn=<AddmmBackward0>)\n",
            "Label:  2 Predicted:  3\n"
          ]
        },
        {
          "output_type": "display_data",
          "data": {
            "text/plain": [
              "<Figure size 640x480 with 1 Axes>"
            ],
            "image/png": "[encoded data removed]"
          },
          "metadata": {}
        }
      ]
    },
    {
      "cell_type": "markdown",
      "source": [
        "\n",
        "\n",
        "---\n",
        "\n"
      ],
      "metadata": {
        "id": "zdOXXDf-FUX5"
      }
    },
    {
      "cell_type": "markdown",
      "source": [
        "#### Model Testing Final\n",
        "\n",
        "Computing the validation loss and accuracy for the full Training dataset using a batch loader and using it with the evaluate function"
      ],
      "metadata": {
        "id": "SFI_-jdlFGUC"
      }
    },
    {
      "cell_type": "code",
      "source": [
        "test_loader = DataLoader(test_dataset, batch_size=256)\n",
        "result = evaluate(model, test_loader)\n",
        "result"
      ],
      "metadata": {
        "colab": {
          "base_uri": "https://localhost:8080/",
          "height": 0
        },
        "id": "eGSqOmpSk00x",
        "outputId": "5accc32e-a13f-49a1-f9f6-b78e196e108a"
      },
      "execution_count": 63,
      "outputs": [
        {
          "output_type": "execute_result",
          "data": {
            "text/plain": [
              "{'val_loss': 2.067535877227783, 'val_acc': 0.891796886920929}"
            ]
          },
          "metadata": {},
          "execution_count": 63
        }
      ]
    },
    {
      "cell_type": "markdown",
      "source": [
        "\n",
        "\n",
        "---\n",
        "\n"
      ],
      "metadata": {
        "id": "D6DkW_gYFaD9"
      }
    },
    {
      "cell_type": "markdown",
      "source": [
        "#### Saving the model weights"
      ],
      "metadata": {
        "id": "AfJno60aFcth"
      }
    },
    {
      "cell_type": "code",
      "source": [
        "torch.save(model.state_dict(), 'mnist-logistic.pth')"
      ],
      "metadata": {
        "id": "ULclNKK2l20C"
      },
      "execution_count": 64,
      "outputs": []
    },
    {
      "cell_type": "markdown",
      "source": [
        "Extracting the current state of the model weights and biases"
      ],
      "metadata": {
        "id": "iFNbKnvsFhFY"
      }
    },
    {
      "cell_type": "code",
      "source": [
        "model.state_dict()"
      ],
      "metadata": {
        "colab": {
          "base_uri": "https://localhost:8080/",
          "height": 0
        },
        "id": "fdNQ-mWOmV8M",
        "outputId": "1fa2c95a-aac7-4485-9dec-326040ce433b"
      },
      "execution_count": 65,
      "outputs": [
        {
          "output_type": "execute_result",
          "data": {
            "text/plain": [
              "OrderedDict([('linear.weight',\n",
              "              tensor([[ 0.0290,  0.0146, -0.0241,  ...,  0.0058,  0.0012, -0.0136],\n",
              "                      [-0.0140,  0.0127,  0.0018,  ...,  0.0201,  0.0149, -0.0092],\n",
              "                      [-0.0306,  0.0192,  0.0038,  ..., -0.0320,  0.0340,  0.0163],\n",
              "                      ...,\n",
              "                      [ 0.0064, -0.0288, -0.0209,  ...,  0.0284,  0.0298,  0.0010],\n",
              "                      [ 0.0133, -0.0052,  0.0219,  ...,  0.0057,  0.0206,  0.0011],\n",
              "                      [-0.0275, -0.0274,  0.0296,  ...,  0.0195,  0.0134,  0.0070]])),\n",
              "             ('linear.bias',\n",
              "              tensor([-26.0553,  -3.6788,   8.5903,   2.1656,  -4.8189,  32.6867, -11.2341,\n",
              "                       13.3367, -11.4117,   0.4233]))])"
            ]
          },
          "metadata": {},
          "execution_count": 65
        }
      ]
    },
    {
      "cell_type": "markdown",
      "source": [
        "Initializing a model from the class and it will contain random set of weights and biases which will perform very bad on testing dataset"
      ],
      "metadata": {
        "id": "Mbn35mueFmxu"
      }
    },
    {
      "cell_type": "code",
      "source": [
        "model2 = MnistModel()\n",
        "model2.state_dict()"
      ],
      "metadata": {
        "colab": {
          "base_uri": "https://localhost:8080/",
          "height": 0
        },
        "id": "pJQK3YodmYGX",
        "outputId": "e0f3b3b9-6e40-44f1-85ff-7112d801ebba"
      },
      "execution_count": 66,
      "outputs": [
        {
          "output_type": "execute_result",
          "data": {
            "text/plain": [
              "OrderedDict([('linear.weight',\n",
              "              tensor([[ 0.0217,  0.0205,  0.0040,  ...,  0.0027,  0.0135, -0.0106],\n",
              "                      [-0.0128,  0.0100, -0.0070,  ..., -0.0333, -0.0150,  0.0038],\n",
              "                      [ 0.0281, -0.0294, -0.0228,  ...,  0.0082,  0.0326,  0.0340],\n",
              "                      ...,\n",
              "                      [-0.0255,  0.0270,  0.0130,  ...,  0.0219, -0.0221, -0.0292],\n",
              "                      [-0.0176, -0.0019, -0.0067,  ..., -0.0158, -0.0111, -0.0198],\n",
              "                      [-0.0220, -0.0087, -0.0107,  ..., -0.0178,  0.0321,  0.0096]])),\n",
              "             ('linear.bias',\n",
              "              tensor([-0.0186,  0.0035, -0.0235,  0.0187, -0.0166,  0.0039,  0.0012,  0.0323,\n",
              "                      -0.0308,  0.0301]))])"
            ]
          },
          "metadata": {},
          "execution_count": 66
        }
      ]
    },
    {
      "cell_type": "markdown",
      "source": [
        "Using the evaluate method to check for the random weights model and the testing dataset performance"
      ],
      "metadata": {
        "id": "nz7KbstDGHz3"
      }
    },
    {
      "cell_type": "code",
      "source": [
        "evaluate(model2, test_loader)"
      ],
      "metadata": {
        "colab": {
          "base_uri": "https://localhost:8080/",
          "height": 0
        },
        "id": "NUAnToCNmx27",
        "outputId": "2a489d61-241c-4109-b51a-9e4223ae2db3"
      },
      "execution_count": 67,
      "outputs": [
        {
          "output_type": "execute_result",
          "data": {
            "text/plain": [
              "{'val_loss': 2.305480480194092, 'val_acc': 0.07666015625}"
            ]
          },
          "metadata": {},
          "execution_count": 67
        }
      ]
    },
    {
      "cell_type": "markdown",
      "source": [
        "\n",
        "\n",
        "---\n",
        "\n"
      ],
      "metadata": {
        "id": "mi9UDTj6GPsR"
      }
    },
    {
      "cell_type": "markdown",
      "source": [
        "#### Importing Model Weights from saved filed"
      ],
      "metadata": {
        "id": "O8mgw4-BGQ1K"
      }
    },
    {
      "cell_type": "code",
      "source": [
        "model2.load_state_dict(torch.load('mnist-logistic.pth'))\n",
        "model2.state_dict()"
      ],
      "metadata": {
        "colab": {
          "base_uri": "https://localhost:8080/",
          "height": 0
        },
        "id": "jGp_hU3am7Tb",
        "outputId": "75f30fd7-e7b0-4188-b3d5-179c370fdad4"
      },
      "execution_count": 68,
      "outputs": [
        {
          "output_type": "stream",
          "name": "stderr",
          "text": [
            "<ipython-input-68-6cae89ea314f>:1: FutureWarning: You are using `torch.load` with `weights_only=False` (the current default value), which uses the default pickle module implicitly. It is possible to construct malicious pickle data which will execute arbitrary code during unpickling (See https://github.com/pytorch/pytorch/blob/main/SECURITY.md#untrusted-models for more details). In a future release, the default value for `weights_only` will be flipped to `True`. This limits the functions that could be executed during unpickling. Arbitrary objects will no longer be allowed to be loaded via this mode unless they are explicitly allowlisted by the user via `torch.serialization.add_safe_globals`. We recommend you start setting `weights_only=True` for any use case where you don't have full control of the loaded file. Please open an issue on GitHub for any issues related to this experimental feature.\n",
            "  model2.load_state_dict(torch.load('mnist-logistic.pth'))\n"
          ]
        },
        {
          "output_type": "execute_result",
          "data": {
            "text/plain": [
              "OrderedDict([('linear.weight',\n",
              "              tensor([[ 0.0290,  0.0146, -0.0241,  ...,  0.0058,  0.0012, -0.0136],\n",
              "                      [-0.0140,  0.0127,  0.0018,  ...,  0.0201,  0.0149, -0.0092],\n",
              "                      [-0.0306,  0.0192,  0.0038,  ..., -0.0320,  0.0340,  0.0163],\n",
              "                      ...,\n",
              "                      [ 0.0064, -0.0288, -0.0209,  ...,  0.0284,  0.0298,  0.0010],\n",
              "                      [ 0.0133, -0.0052,  0.0219,  ...,  0.0057,  0.0206,  0.0011],\n",
              "                      [-0.0275, -0.0274,  0.0296,  ...,  0.0195,  0.0134,  0.0070]])),\n",
              "             ('linear.bias',\n",
              "              tensor([-26.0553,  -3.6788,   8.5903,   2.1656,  -4.8189,  32.6867, -11.2341,\n",
              "                       13.3367, -11.4117,   0.4233]))])"
            ]
          },
          "metadata": {},
          "execution_count": 68
        }
      ]
    },
    {
      "cell_type": "markdown",
      "source": [
        "Using the evaluate method to check for the loaded weights model and the testing dataset performance"
      ],
      "metadata": {
        "id": "hoFQrOzaGXdv"
      }
    },
    {
      "cell_type": "code",
      "source": [
        "evaluate(model2, test_loader)"
      ],
      "metadata": {
        "colab": {
          "base_uri": "https://localhost:8080/",
          "height": 0
        },
        "id": "fwzD4-LLnFKv",
        "outputId": "725cee01-65d7-479d-eea3-fa3636eb0380"
      },
      "execution_count": 69,
      "outputs": [
        {
          "output_type": "execute_result",
          "data": {
            "text/plain": [
              "{'val_loss': 2.067535877227783, 'val_acc': 0.891796886920929}"
            ]
          },
          "metadata": {},
          "execution_count": 69
        }
      ]
    }
  ]
}