{
 "cells": [
  {
   "cell_type": "markdown",
   "id": "d9d0fcef-62e9-49ba-9844-196cdd32b7e5",
   "metadata": {},
   "source": [
    "### Import the necessary Libraries"
   ]
  },
  {
   "cell_type": "code",
   "execution_count": 2,
   "id": "95404ed5-09bc-4a19-97b8-244a7ce4ca3f",
   "metadata": {},
   "outputs": [],
   "source": [
    "from sklearn.datasets import fetch_california_housing\n",
    "from sklearn.metrics import mean_squared_error\n",
    "from sklearn.model_selection import train_test_split\n",
    "from sklearn.neural_network import MLPRegressor\n",
    "from sklearn.pipeline import make_pipeline\n",
    "from sklearn.preprocessing import StandardScaler"
   ]
  },
  {
   "cell_type": "markdown",
   "id": "f8a5b0f8-4e3f-410a-a793-db5bb2c564a2",
   "metadata": {},
   "source": [
    "### Downloading the dataset\n",
    "\n",
    "- California Housing Dataset"
   ]
  },
  {
   "cell_type": "code",
   "execution_count": 3,
   "id": "791f4260-c050-4a82-9b41-fe78269eb723",
   "metadata": {},
   "outputs": [],
   "source": [
    "housing = fetch_california_housing()"
   ]
  },
  {
   "cell_type": "markdown",
   "id": "54d1052e-ce56-49fc-867a-d5f1402cdb8b",
   "metadata": {},
   "source": [
    "### Inspecting the data and it's shape"
   ]
  },
  {
   "cell_type": "code",
   "execution_count": 5,
   "id": "67ce9e7c-86de-487d-87b6-5ac24878775d",
   "metadata": {},
   "outputs": [
    {
     "data": {
      "text/plain": [
       "(array([[   8.3252    ,   41.        ,    6.98412698, ...,    2.55555556,\n",
       "           37.88      , -122.23      ],\n",
       "        [   8.3014    ,   21.        ,    6.23813708, ...,    2.10984183,\n",
       "           37.86      , -122.22      ],\n",
       "        [   7.2574    ,   52.        ,    8.28813559, ...,    2.80225989,\n",
       "           37.85      , -122.24      ],\n",
       "        ...,\n",
       "        [   1.7       ,   17.        ,    5.20554273, ...,    2.3256351 ,\n",
       "           39.43      , -121.22      ],\n",
       "        [   1.8672    ,   18.        ,    5.32951289, ...,    2.12320917,\n",
       "           39.43      , -121.32      ],\n",
       "        [   2.3886    ,   16.        ,    5.25471698, ...,    2.61698113,\n",
       "           39.37      , -121.24      ]]),\n",
       " (20640, 8))"
      ]
     },
     "execution_count": 5,
     "metadata": {},
     "output_type": "execute_result"
    }
   ],
   "source": [
    "housing.data, housing.data.shape"
   ]
  },
  {
   "cell_type": "markdown",
   "id": "d2024336-e9dc-4835-ad69-40183ae1d867",
   "metadata": {},
   "source": [
    "### Inspecting the data target and it's shape"
   ]
  },
  {
   "cell_type": "code",
   "execution_count": 6,
   "id": "49392701-1b6a-4f40-9e53-78cfbb585cb7",
   "metadata": {},
   "outputs": [
    {
     "data": {
      "text/plain": [
       "(array([4.526, 3.585, 3.521, ..., 0.923, 0.847, 0.894]), (20640,))"
      ]
     },
     "execution_count": 6,
     "metadata": {},
     "output_type": "execute_result"
    }
   ],
   "source": [
    "housing.target, housing.target.shape"
   ]
  },
  {
   "cell_type": "markdown",
   "id": "09eb3970-f3c0-4ba9-80ca-288d2eeeb182",
   "metadata": {},
   "source": [
    "### Splitting the dataset\n",
    "\n",
    "- Splitting the dataset into training and testing dataset (75:25 percentage split)"
   ]
  },
  {
   "cell_type": "code",
   "execution_count": 11,
   "id": "90b0e9c2-3d6b-4c4f-a16e-184e2ee43d97",
   "metadata": {},
   "outputs": [],
   "source": [
    "X_train_full, X_test, y_train_full, y_test = train_test_split(housing.data, housing.target, random_state=42)"
   ]
  },
  {
   "cell_type": "code",
   "execution_count": 13,
   "id": "2923dc0b-e7cb-488a-bf4c-9b248dfbfe12",
   "metadata": {},
   "outputs": [
    {
     "name": "stdout",
     "output_type": "stream",
     "text": [
      "(15480, 8) (15480,)\n",
      "(5160, 8) (5160,)\n"
     ]
    }
   ],
   "source": [
    "print(X_train_full.shape, y_train_full.shape)\n",
    "print(X_test.shape, y_test.shape)"
   ]
  },
  {
   "cell_type": "markdown",
   "id": "52debc5d-215e-468e-a5ee-d5a9ecb93b22",
   "metadata": {},
   "source": [
    "- Splitting the training dataset into training and validation dataset (75:25 percentage split)"
   ]
  },
  {
   "cell_type": "code",
   "execution_count": 14,
   "id": "914d21db-ff84-4bcd-9abf-6731ab628848",
   "metadata": {},
   "outputs": [],
   "source": [
    "X_train, X_valid, y_train, y_valid = train_test_split(X_train_full, y_train_full, random_state=42)"
   ]
  },
  {
   "cell_type": "code",
   "execution_count": 15,
   "id": "6b459eb6-9e68-4d4c-9af4-99fe2fbb23f5",
   "metadata": {},
   "outputs": [
    {
     "name": "stdout",
     "output_type": "stream",
     "text": [
      "(11610, 8) (11610,)\n",
      "(3870, 8) (3870,)\n"
     ]
    }
   ],
   "source": [
    "print(X_train.shape, y_train.shape)\n",
    "print(X_valid.shape, y_valid.shape)"
   ]
  },
  {
   "cell_type": "markdown",
   "id": "599c4e9f-a245-42e1-aa07-e2dc164e7e35",
   "metadata": {},
   "source": [
    "### Initializing the Machine Learning Regressor\n",
    "\n",
    "- The model uses the ReLU activation function in the hidden layers and it uses a variant of gradient descent called Adam to minimize the mean squared error with a little bit of l2 regularization which can be controlled using alpha parameter"
   ]
  },
  {
   "cell_type": "code",
   "execution_count": 16,
   "id": "dde50a44-e612-49d4-a5ce-54b3ca5b2a13",
   "metadata": {},
   "outputs": [],
   "source": [
    "mlp_reg = MLPRegressor(hidden_layer_sizes=[50, 50, 50], random_state=42)\n",
    "pipeline = make_pipeline(StandardScaler(), mlp_reg)"
   ]
  },
  {
   "cell_type": "code",
   "execution_count": 17,
   "id": "01f81256-ba28-40f4-a554-50c76d1da349",
   "metadata": {},
   "outputs": [],
   "source": [
    "pipeline.fit(X_train, y_train)\n",
    "y_pred = pipeline.predict(X_valid)"
   ]
  },
  {
   "cell_type": "markdown",
   "id": "52003995-d9f1-4e80-b5cd-25c72a1b29fa",
   "metadata": {},
   "source": [
    "### Calculating the root mean squared error"
   ]
  },
  {
   "cell_type": "code",
   "execution_count": 18,
   "id": "918f661e-eecd-46cb-9d8c-d1b16bcbcc91",
   "metadata": {},
   "outputs": [
    {
     "name": "stderr",
     "output_type": "stream",
     "text": [
      "/home/subhajit/Documents/Machine Learning Materials/.venv/lib/python3.12/site-packages/sklearn/metrics/_regression.py:492: FutureWarning: 'squared' is deprecated in version 1.4 and will be removed in 1.6. To calculate the root mean squared error, use the function'root_mean_squared_error'.\n",
      "  warnings.warn(\n"
     ]
    }
   ],
   "source": [
    "rmse = mean_squared_error(y_valid, y_pred, squared=False)"
   ]
  },
  {
   "cell_type": "code",
   "execution_count": 19,
   "id": "8fd676ef-e0f0-43d7-b40d-f85f0e9f2e74",
   "metadata": {},
   "outputs": [
    {
     "name": "stdout",
     "output_type": "stream",
     "text": [
      "0.5053326657968684\n"
     ]
    }
   ],
   "source": [
    "print(rmse)"
   ]
  }
 ],
 "metadata": {
  "kernelspec": {
   "display_name": "Python 3 (ipykernel)",
   "language": "python",
   "name": "python3"
  },
  "language_info": {
   "codemirror_mode": {
    "name": "ipython",
    "version": 3
   },
   "file_extension": ".py",
   "mimetype": "text/x-python",
   "name": "python",
   "nbconvert_exporter": "python",
   "pygments_lexer": "ipython3",
   "version": "3.12.3"
  }
 },
 "nbformat": 4,
 "nbformat_minor": 5
}
