{
 "cells": [
  {
   "cell_type": "markdown",
   "id": "9acc1e17-52ed-40ff-b968-bab7a17600c7",
   "metadata": {},
   "source": [
    "#### Importing the necessary libraries and packages"
   ]
  },
  {
   "cell_type": "code",
   "execution_count": 12,
   "id": "b4c6ff82-e3b3-4c3f-b9b1-e2a9e6dfbff0",
   "metadata": {},
   "outputs": [],
   "source": [
    "import warnings\n",
    "warnings.filterwarnings('ignore')\n",
    "from sklearn.datasets import fetch_california_housing\n",
    "from sklearn.model_selection import train_test_split\n",
    "import tensorflow as tf"
   ]
  },
  {
   "cell_type": "code",
   "execution_count": 31,
   "id": "5372b955-3429-40a8-9983-ae1a314fcb76",
   "metadata": {},
   "outputs": [
    {
     "name": "stdout",
     "output_type": "stream",
     "text": [
      "2.18.0\n"
     ]
    }
   ],
   "source": [
    "print(tf.__version__)"
   ]
  },
  {
   "cell_type": "markdown",
   "id": "be11da19-44e7-49cd-b300-b62c6ec3c4ce",
   "metadata": {},
   "source": [
    "#### Downloading the dataset\n",
    "\n",
    "* California Housing dataset"
   ]
  },
  {
   "cell_type": "code",
   "execution_count": 2,
   "id": "3cb2d276-7092-4111-8d26-cee8cda4a541",
   "metadata": {},
   "outputs": [],
   "source": [
    "housing = fetch_california_housing()"
   ]
  },
  {
   "cell_type": "markdown",
   "id": "70f02895-5193-4e26-8c71-b0c6a7424d89",
   "metadata": {},
   "source": [
    "#### Inspecting the data and it's shape"
   ]
  },
  {
   "cell_type": "code",
   "execution_count": 3,
   "id": "6ea57d29-111e-4a73-afd9-433401be4e30",
   "metadata": {},
   "outputs": [
    {
     "data": {
      "text/plain": [
       "(array([[   8.3252    ,   41.        ,    6.98412698, ...,    2.55555556,\n",
       "           37.88      , -122.23      ],\n",
       "        [   8.3014    ,   21.        ,    6.23813708, ...,    2.10984183,\n",
       "           37.86      , -122.22      ],\n",
       "        [   7.2574    ,   52.        ,    8.28813559, ...,    2.80225989,\n",
       "           37.85      , -122.24      ],\n",
       "        ...,\n",
       "        [   1.7       ,   17.        ,    5.20554273, ...,    2.3256351 ,\n",
       "           39.43      , -121.22      ],\n",
       "        [   1.8672    ,   18.        ,    5.32951289, ...,    2.12320917,\n",
       "           39.43      , -121.32      ],\n",
       "        [   2.3886    ,   16.        ,    5.25471698, ...,    2.61698113,\n",
       "           39.37      , -121.24      ]]),\n",
       " (20640, 8))"
      ]
     },
     "execution_count": 3,
     "metadata": {},
     "output_type": "execute_result"
    }
   ],
   "source": [
    "housing.data, housing.data.shape"
   ]
  },
  {
   "cell_type": "markdown",
   "id": "5abc6503-e42a-4c70-9bf5-5c6a62aa1958",
   "metadata": {},
   "source": [
    "#### Inspecting the data target and it's shape"
   ]
  },
  {
   "cell_type": "code",
   "execution_count": 4,
   "id": "dd1a44a2-f85f-496f-90f6-56cba2bf5c8b",
   "metadata": {},
   "outputs": [
    {
     "data": {
      "text/plain": [
       "(array([4.526, 3.585, 3.521, ..., 0.923, 0.847, 0.894]), (20640,))"
      ]
     },
     "execution_count": 4,
     "metadata": {},
     "output_type": "execute_result"
    }
   ],
   "source": [
    "housing.target, housing.target.shape"
   ]
  },
  {
   "cell_type": "markdown",
   "id": "d44bf125-0498-430c-854e-f6dbec2db75a",
   "metadata": {},
   "source": [
    "#### Splitting the dataset\n",
    "\n",
    "- Splitting the dataset into training and testing dataset (75:25 percentage split)"
   ]
  },
  {
   "cell_type": "code",
   "execution_count": 5,
   "id": "d945ab68-362a-4a19-ae76-6140a8528262",
   "metadata": {},
   "outputs": [],
   "source": [
    "X_train_full, X_test, y_train_full, y_test = train_test_split(housing.data, housing.target, random_state=42)"
   ]
  },
  {
   "cell_type": "code",
   "execution_count": 6,
   "id": "f55cef94-da37-4862-8023-300dd018b494",
   "metadata": {},
   "outputs": [
    {
     "name": "stdout",
     "output_type": "stream",
     "text": [
      "(15480, 8) (15480,)\n",
      "(5160, 8) (5160,)\n"
     ]
    }
   ],
   "source": [
    "print(X_train_full.shape, y_train_full.shape)\n",
    "print(X_test.shape, y_test.shape)"
   ]
  },
  {
   "cell_type": "markdown",
   "id": "d6d1a5e1-235f-4117-91de-9a5cfd381ab8",
   "metadata": {},
   "source": [
    "- Splitting the training dataset into training and validation dataset (75:25 percentage split)"
   ]
  },
  {
   "cell_type": "code",
   "execution_count": 7,
   "id": "6e7da92d-5055-4e77-be39-b3c976ca165d",
   "metadata": {},
   "outputs": [],
   "source": [
    "X_train, X_valid, y_train, y_valid = train_test_split(X_train_full, y_train_full, random_state=42)"
   ]
  },
  {
   "cell_type": "code",
   "execution_count": 8,
   "id": "c8b28376-fcc3-480f-aac8-8e1f2b469139",
   "metadata": {},
   "outputs": [
    {
     "name": "stdout",
     "output_type": "stream",
     "text": [
      "(11610, 8) (11610,)\n",
      "(3870, 8) (3870,)\n"
     ]
    }
   ],
   "source": [
    "print(X_train.shape, y_train.shape)\n",
    "print(X_valid.shape, y_valid.shape)"
   ]
  },
  {
   "cell_type": "markdown",
   "id": "0c0365a7-60bb-43c7-9703-ab4dd689a42c",
   "metadata": {},
   "source": [
    "### Type 1 Model : Initializing the model\n",
    "\n",
    "* Flatten() layer is not used in this example.\n",
    "* Instead a Normalization layer is used as the first layer and does the same thing as Scikit-Learn's StandardScaler().\n",
    "* Must be fitted to the training data using it's adapt() methods before calling the model's fit() method\n",
    "\n",
    "The **Normalization layer** learns the feature means and standard deviations in the training data when you call the adapt() method. Yet when you display the model's summary, these statistics are listed as non trainable. This is because these parameters are not affected by gradient descent."
   ]
  },
  {
   "cell_type": "code",
   "execution_count": 9,
   "id": "ef782f2b-8467-4cde-a646-d26fb5e8b811",
   "metadata": {},
   "outputs": [],
   "source": [
    "tf.random.set_seed(42)"
   ]
  },
  {
   "cell_type": "code",
   "execution_count": 21,
   "id": "97aca207-4049-481e-b768-69a02f46ceac",
   "metadata": {},
   "outputs": [],
   "source": [
    "norm_layer = tf.keras.layers.Normalization(input_shape=X_train.shape[1:])\n",
    "model = tf.keras.Sequential([\n",
    "    norm_layer,\n",
    "    tf.keras.layers.Dense(50, activation='relu'),\n",
    "    tf.keras.layers.Dense(50, activation='relu'),\n",
    "    tf.keras.layers.Dense(50, activation='relu'),\n",
    "    tf.keras.layers.Dense(1)])"
   ]
  },
  {
   "cell_type": "markdown",
   "id": "25d0ee81-5f98-4ce3-af94-00c45c4e3055",
   "metadata": {},
   "source": [
    "#### Setting the optimizer"
   ]
  },
  {
   "cell_type": "code",
   "execution_count": 22,
   "id": "8faf5ec1-9d9c-4d80-8d24-af7c6dc8459f",
   "metadata": {},
   "outputs": [],
   "source": [
    "optimizer = tf.keras.optimizers.Adam(learning_rate=1e-3)"
   ]
  },
  {
   "cell_type": "markdown",
   "id": "4c68bdaf-e02a-4a76-9695-3cac84c84d38",
   "metadata": {},
   "source": [
    "#### Setting the model's training metrics"
   ]
  },
  {
   "cell_type": "code",
   "execution_count": 23,
   "id": "82a30c3c-8587-468f-9a2f-5cfff7997bb3",
   "metadata": {},
   "outputs": [],
   "source": [
    "model.compile(loss=\"mse\", optimizer=optimizer, metrics=[\"RootMeanSquaredError\"])"
   ]
  },
  {
   "cell_type": "markdown",
   "id": "a204d089-78bc-47f0-8930-9f8f08005514",
   "metadata": {},
   "source": [
    "#### Adapt the training data to the normalization layer"
   ]
  },
  {
   "cell_type": "code",
   "execution_count": 24,
   "id": "e4f3eec6-0882-4005-987d-9497ae074d41",
   "metadata": {},
   "outputs": [],
   "source": [
    "norm_layer.adapt(X_train)"
   ]
  },
  {
   "cell_type": "markdown",
   "id": "13b00803-bfa4-4318-86d0-037e800f7128",
   "metadata": {},
   "source": [
    "#### Train the model on training data using specified number of epochs"
   ]
  },
  {
   "cell_type": "code",
   "execution_count": 25,
   "id": "e46c57b7-b6fd-44de-845c-0fba4e1dc26c",
   "metadata": {
    "scrolled": true
   },
   "outputs": [
    {
     "name": "stdout",
     "output_type": "stream",
     "text": [
      "Epoch 1/20\n",
      "\u001b[1m363/363\u001b[0m \u001b[32m━━━━━━━━━━━━━━━━━━━━\u001b[0m\u001b[37m\u001b[0m \u001b[1m1s\u001b[0m 1ms/step - RootMeanSquaredError: 1.1591 - loss: 1.4237 - val_RootMeanSquaredError: 0.9103 - val_loss: 0.8287\n",
      "Epoch 2/20\n",
      "\u001b[1m363/363\u001b[0m \u001b[32m━━━━━━━━━━━━━━━━━━━━\u001b[0m\u001b[37m\u001b[0m \u001b[1m0s\u001b[0m 1ms/step - RootMeanSquaredError: 0.6435 - loss: 0.4146 - val_RootMeanSquaredError: 0.6084 - val_loss: 0.3701\n",
      "Epoch 3/20\n",
      "\u001b[1m363/363\u001b[0m \u001b[32m━━━━━━━━━━━━━━━━━━━━\u001b[0m\u001b[37m\u001b[0m \u001b[1m0s\u001b[0m 1ms/step - RootMeanSquaredError: 0.6060 - loss: 0.3674 - val_RootMeanSquaredError: 0.8837 - val_loss: 0.7809\n",
      "Epoch 4/20\n",
      "\u001b[1m363/363\u001b[0m \u001b[32m━━━━━━━━━━━━━━━━━━━━\u001b[0m\u001b[37m\u001b[0m \u001b[1m0s\u001b[0m 1ms/step - RootMeanSquaredError: 0.5923 - loss: 0.3510 - val_RootMeanSquaredError: 1.1057 - val_loss: 1.2226\n",
      "Epoch 5/20\n",
      "\u001b[1m363/363\u001b[0m \u001b[32m━━━━━━━━━━━━━━━━━━━━\u001b[0m\u001b[37m\u001b[0m \u001b[1m0s\u001b[0m 1ms/step - RootMeanSquaredError: 0.5820 - loss: 0.3389 - val_RootMeanSquaredError: 1.0742 - val_loss: 1.1540\n",
      "Epoch 6/20\n",
      "\u001b[1m363/363\u001b[0m \u001b[32m━━━━━━━━━━━━━━━━━━━━\u001b[0m\u001b[37m\u001b[0m \u001b[1m0s\u001b[0m 1ms/step - RootMeanSquaredError: 0.5759 - loss: 0.3317 - val_RootMeanSquaredError: 1.5071 - val_loss: 2.2712\n",
      "Epoch 7/20\n",
      "\u001b[1m363/363\u001b[0m \u001b[32m━━━━━━━━━━━━━━━━━━━━\u001b[0m\u001b[37m\u001b[0m \u001b[1m0s\u001b[0m 934us/step - RootMeanSquaredError: 0.5718 - loss: 0.3271 - val_RootMeanSquaredError: 0.9234 - val_loss: 0.8526\n",
      "Epoch 8/20\n",
      "\u001b[1m363/363\u001b[0m \u001b[32m━━━━━━━━━━━━━━━━━━━━\u001b[0m\u001b[37m\u001b[0m \u001b[1m0s\u001b[0m 1ms/step - RootMeanSquaredError: 0.5648 - loss: 0.3191 - val_RootMeanSquaredError: 0.8959 - val_loss: 0.8026\n",
      "Epoch 9/20\n",
      "\u001b[1m363/363\u001b[0m \u001b[32m━━━━━━━━━━━━━━━━━━━━\u001b[0m\u001b[37m\u001b[0m \u001b[1m0s\u001b[0m 988us/step - RootMeanSquaredError: 0.5563 - loss: 0.3096 - val_RootMeanSquaredError: 0.5539 - val_loss: 0.3068\n",
      "Epoch 10/20\n",
      "\u001b[1m363/363\u001b[0m \u001b[32m━━━━━━━━━━━━━━━━━━━━\u001b[0m\u001b[37m\u001b[0m \u001b[1m0s\u001b[0m 1ms/step - RootMeanSquaredError: 0.5518 - loss: 0.3046 - val_RootMeanSquaredError: 0.5721 - val_loss: 0.3273\n",
      "Epoch 11/20\n",
      "\u001b[1m363/363\u001b[0m \u001b[32m━━━━━━━━━━━━━━━━━━━━\u001b[0m\u001b[37m\u001b[0m \u001b[1m0s\u001b[0m 1ms/step - RootMeanSquaredError: 0.5476 - loss: 0.3000 - val_RootMeanSquaredError: 0.5610 - val_loss: 0.3147\n",
      "Epoch 12/20\n",
      "\u001b[1m363/363\u001b[0m \u001b[32m━━━━━━━━━━━━━━━━━━━━\u001b[0m\u001b[37m\u001b[0m \u001b[1m0s\u001b[0m 1ms/step - RootMeanSquaredError: 0.5432 - loss: 0.2952 - val_RootMeanSquaredError: 0.5622 - val_loss: 0.3161\n",
      "Epoch 13/20\n",
      "\u001b[1m363/363\u001b[0m \u001b[32m━━━━━━━━━━━━━━━━━━━━\u001b[0m\u001b[37m\u001b[0m \u001b[1m0s\u001b[0m 1ms/step - RootMeanSquaredError: 0.5392 - loss: 0.2909 - val_RootMeanSquaredError: 0.5681 - val_loss: 0.3227\n",
      "Epoch 14/20\n",
      "\u001b[1m363/363\u001b[0m \u001b[32m━━━━━━━━━━━━━━━━━━━━\u001b[0m\u001b[37m\u001b[0m \u001b[1m0s\u001b[0m 1ms/step - RootMeanSquaredError: 0.5364 - loss: 0.2878 - val_RootMeanSquaredError: 0.5309 - val_loss: 0.2819\n",
      "Epoch 15/20\n",
      "\u001b[1m363/363\u001b[0m \u001b[32m━━━━━━━━━━━━━━━━━━━━\u001b[0m\u001b[37m\u001b[0m \u001b[1m0s\u001b[0m 976us/step - RootMeanSquaredError: 0.5329 - loss: 0.2841 - val_RootMeanSquaredError: 0.5499 - val_loss: 0.3023\n",
      "Epoch 16/20\n",
      "\u001b[1m363/363\u001b[0m \u001b[32m━━━━━━━━━━━━━━━━━━━━\u001b[0m\u001b[37m\u001b[0m \u001b[1m0s\u001b[0m 1ms/step - RootMeanSquaredError: 0.5316 - loss: 0.2827 - val_RootMeanSquaredError: 0.5311 - val_loss: 0.2821\n",
      "Epoch 17/20\n",
      "\u001b[1m363/363\u001b[0m \u001b[32m━━━━━━━━━━━━━━━━━━━━\u001b[0m\u001b[37m\u001b[0m \u001b[1m0s\u001b[0m 1ms/step - RootMeanSquaredError: 0.5323 - loss: 0.2834 - val_RootMeanSquaredError: 0.6966 - val_loss: 0.4852\n",
      "Epoch 18/20\n",
      "\u001b[1m363/363\u001b[0m \u001b[32m━━━━━━━━━━━━━━━━━━━━\u001b[0m\u001b[37m\u001b[0m \u001b[1m0s\u001b[0m 1ms/step - RootMeanSquaredError: 0.5275 - loss: 0.2783 - val_RootMeanSquaredError: 0.5416 - val_loss: 0.2933\n",
      "Epoch 19/20\n",
      "\u001b[1m363/363\u001b[0m \u001b[32m━━━━━━━━━━━━━━━━━━━━\u001b[0m\u001b[37m\u001b[0m \u001b[1m0s\u001b[0m 1ms/step - RootMeanSquaredError: 0.5250 - loss: 0.2757 - val_RootMeanSquaredError: 0.5675 - val_loss: 0.3221\n",
      "Epoch 20/20\n",
      "\u001b[1m363/363\u001b[0m \u001b[32m━━━━━━━━━━━━━━━━━━━━\u001b[0m\u001b[37m\u001b[0m \u001b[1m0s\u001b[0m 1ms/step - RootMeanSquaredError: 0.5224 - loss: 0.2730 - val_RootMeanSquaredError: 0.5398 - val_loss: 0.2914\n"
     ]
    }
   ],
   "source": [
    "history = model.fit(X_train, y_train, epochs=20, validation_data=(X_valid, y_valid))"
   ]
  },
  {
   "cell_type": "markdown",
   "id": "085d7d0c-454c-4a14-a8d9-2ed5a6d1a442",
   "metadata": {},
   "source": [
    "#### Evaluate the model's performance on testing data"
   ]
  },
  {
   "cell_type": "code",
   "execution_count": 26,
   "id": "5bdf9a64-28a7-446b-9b22-9a86d4385e14",
   "metadata": {},
   "outputs": [
    {
     "name": "stdout",
     "output_type": "stream",
     "text": [
      "\u001b[1m162/162\u001b[0m \u001b[32m━━━━━━━━━━━━━━━━━━━━\u001b[0m\u001b[37m\u001b[0m \u001b[1m0s\u001b[0m 652us/step - RootMeanSquaredError: 0.5293 - loss: 0.2803\n"
     ]
    }
   ],
   "source": [
    "mse_test, rmse_test = model.evaluate(X_test, y_test)"
   ]
  },
  {
   "cell_type": "code",
   "execution_count": 27,
   "id": "df0aa88b-efb8-4ac5-b04a-0d0a0b8e7a0d",
   "metadata": {},
   "outputs": [
    {
     "name": "stdout",
     "output_type": "stream",
     "text": [
      "0.2853373885154724 0.5341697931289673\n"
     ]
    }
   ],
   "source": [
    "print(mse_test, rmse_test)"
   ]
  },
  {
   "cell_type": "markdown",
   "id": "1826dd52-8497-44e0-844c-721f8223a772",
   "metadata": {},
   "source": [
    "#### Predict the output values for the first 3 datapoints"
   ]
  },
  {
   "cell_type": "code",
   "execution_count": 28,
   "id": "9f9ef17d-6cd4-4c15-af5e-f301afd54081",
   "metadata": {},
   "outputs": [
    {
     "name": "stdout",
     "output_type": "stream",
     "text": [
      "\u001b[1m1/1\u001b[0m \u001b[32m━━━━━━━━━━━━━━━━━━━━\u001b[0m\u001b[37m\u001b[0m \u001b[1m0s\u001b[0m 60ms/step\n"
     ]
    }
   ],
   "source": [
    "X_new = X_test[:3]\n",
    "y_pred = model.predict(X_new)"
   ]
  },
  {
   "cell_type": "code",
   "execution_count": 29,
   "id": "db5cdb3a-7dca-4994-8fe4-54799a9475e6",
   "metadata": {},
   "outputs": [
    {
     "data": {
      "text/plain": [
       "array([[0.45630956],\n",
       "       [1.4869951 ],\n",
       "       [5.008497  ]], dtype=float32)"
      ]
     },
     "execution_count": 29,
     "metadata": {},
     "output_type": "execute_result"
    }
   ],
   "source": [
    "y_pred"
   ]
  },
  {
   "cell_type": "markdown",
   "id": "ca6aa34a-daf7-4153-9f3c-1da1cda0606d",
   "metadata": {},
   "source": [
    "### Type 2 Model : Building a Wide and Deep neural network\n",
    "\n",
    "* Non sequential neural network is a Wide and Deep Neural Network\n",
    "* Heng-Tze Cheng et al (2016 paper)\n",
    "* It connects all or part of the inputs directly to the output layer.\n",
    "* This architecture makes it possible for the neural network to learn both deep patterns (using the deep path) and simple rules(through the short path)\n",
    "* A regular MLP forces all the data to flow through the full stack of layers, thus simple patterns in the data may end up being distorted by this sequence of transformations "
   ]
  },
  {
   "cell_type": "markdown",
   "id": "9fdcde49-6dfb-42e4-9174-554f7707383b",
   "metadata": {},
   "source": [
    "#### Defining layers of the model"
   ]
  },
  {
   "cell_type": "markdown",
   "id": "0c574105-7c0e-4ff3-b4fc-7762d5e5d839",
   "metadata": {},
   "source": [
    "1. Normalization layer to standardize the inputs\n",
    "2. Two Dense layers with 30 neurons each using the ReLU activation function\n",
    "3. Concatenate layer\n",
    "4. Dense layer with a single neuron for the output layer, without any activation function"
   ]
  },
  {
   "cell_type": "code",
   "execution_count": 33,
   "id": "0960680b-1681-4ae8-a7fc-b7066d5f8b51",
   "metadata": {},
   "outputs": [],
   "source": [
    "normalization_layer = tf.keras.layers.Normalization()\n",
    "hidden_layer1 = tf.keras.layers.Dense(30, activation='relu')\n",
    "hidden_layer2 = tf.keras.layers.Dense(30, activation='relu')\n",
    "concat_layer = tf.keras.layers.Concatenate()\n",
    "output_layer = tf.keras.layers.Dense(1)"
   ]
  },
  {
   "cell_type": "markdown",
   "id": "f20fcce8-d0f1-459f-8195-8c1eed52dc7b",
   "metadata": {},
   "source": [
    "#### Establishing the flow of data in model layers"
   ]
  },
  {
   "cell_type": "markdown",
   "id": "b2ec6dae-9c99-46f3-965f-a458609fed36",
   "metadata": {},
   "source": [
    "1. input_ - Input object. It is a specification of the kind of input the model will get, including it's shape and optionally its dtype, which defaults to 32 bits floats. A model may actually have multiple inputs. Input object is just a data specification.\n",
    "2. Used the Normalization layer just like a function, passing it the Input object. It's called the functional API. No actual data is being processed yet. Only keras is being told how it should connect the layers together.The input and output are both symbolic. Normalized doesn't store any actual data, it's just used to construct the model.\n",
    "3. concat_layer - concatenate the input and the second hidden layer's output."
   ]
  },
  {
   "cell_type": "code",
   "execution_count": 34,
   "id": "0d9ea692-d15d-4da6-9bc2-2817fa8f31ec",
   "metadata": {},
   "outputs": [],
   "source": [
    "input_ = tf.keras.layers.Input(shape=X_train.shape[1:])\n",
    "normalized = normalization_layer(input_)\n",
    "hidden1 = hidden_layer1(normalized)\n",
    "hidden2 = hidden_layer2(hidden1)\n",
    "concat = concat_layer([normalized, hidden2])\n",
    "output = output_layer(concat)"
   ]
  },
  {
   "cell_type": "markdown",
   "id": "c9bf3695-a698-4cc8-add8-e0024a5b0ba4",
   "metadata": {},
   "source": [
    "#### Creation of Keras model from inputs and outputs"
   ]
  },
  {
   "cell_type": "code",
   "execution_count": 38,
   "id": "244b7de2-0814-4b52-9b02-de68678b82e1",
   "metadata": {},
   "outputs": [],
   "source": [
    "model = tf.keras.Model(inputs=[input_], outputs=[output])"
   ]
  },
  {
   "cell_type": "markdown",
   "id": "94e97ff5-5b30-41bc-a327-d8c10406e071",
   "metadata": {},
   "source": [
    "#### Defining the optimizer"
   ]
  },
  {
   "cell_type": "code",
   "execution_count": 39,
   "id": "360f6796-8ce8-4749-aec7-69337526e0dc",
   "metadata": {},
   "outputs": [],
   "source": [
    "optimizer1 = tf.keras.optimizers.Adam(learning_rate=1e-3)"
   ]
  },
  {
   "cell_type": "markdown",
   "id": "128015b4-2756-49a3-b3d9-7f10e0780291",
   "metadata": {},
   "source": [
    "#### Model compilation using model training metrics"
   ]
  },
  {
   "cell_type": "code",
   "execution_count": 40,
   "id": "5a96e175-0566-4e53-b4eb-cbbe1670c444",
   "metadata": {},
   "outputs": [],
   "source": [
    "model.compile(loss=\"mse\", optimizer=optimizer1, metrics=[\"RootMeanSquaredError\"])"
   ]
  },
  {
   "cell_type": "markdown",
   "id": "efaba8f4-bed7-4c42-b368-f0ea67bcdddd",
   "metadata": {},
   "source": [
    "#### Fitting the model"
   ]
  },
  {
   "cell_type": "code",
   "execution_count": 41,
   "id": "ef158b99-d368-4cc0-bba0-c5512a83336a",
   "metadata": {
    "scrolled": true
   },
   "outputs": [
    {
     "name": "stdout",
     "output_type": "stream",
     "text": [
      "Epoch 1/20\n",
      "\u001b[1m363/363\u001b[0m \u001b[32m━━━━━━━━━━━━━━━━━━━━\u001b[0m\u001b[37m\u001b[0m \u001b[1m1s\u001b[0m 1ms/step - RootMeanSquaredError: 98.5840 - loss: 13144.9893 - val_RootMeanSquaredError: 13.7108 - val_loss: 187.9848\n",
      "Epoch 2/20\n",
      "\u001b[1m363/363\u001b[0m \u001b[32m━━━━━━━━━━━━━━━━━━━━\u001b[0m\u001b[37m\u001b[0m \u001b[1m0s\u001b[0m 1ms/step - RootMeanSquaredError: 2.6266 - loss: 6.9281 - val_RootMeanSquaredError: 12.9485 - val_loss: 167.6648\n",
      "Epoch 3/20\n",
      "\u001b[1m363/363\u001b[0m \u001b[32m━━━━━━━━━━━━━━━━━━━━\u001b[0m\u001b[37m\u001b[0m \u001b[1m0s\u001b[0m 950us/step - RootMeanSquaredError: 1.9082 - loss: 3.6802 - val_RootMeanSquaredError: 11.5206 - val_loss: 132.7237\n",
      "Epoch 4/20\n",
      "\u001b[1m363/363\u001b[0m \u001b[32m━━━━━━━━━━━━━━━━━━━━\u001b[0m\u001b[37m\u001b[0m \u001b[1m0s\u001b[0m 882us/step - RootMeanSquaredError: 1.5835 - loss: 2.5444 - val_RootMeanSquaredError: 10.2225 - val_loss: 104.4997\n",
      "Epoch 5/20\n",
      "\u001b[1m363/363\u001b[0m \u001b[32m━━━━━━━━━━━━━━━━━━━━\u001b[0m\u001b[37m\u001b[0m \u001b[1m0s\u001b[0m 966us/step - RootMeanSquaredError: 1.3602 - loss: 1.8849 - val_RootMeanSquaredError: 8.9722 - val_loss: 80.5004\n",
      "Epoch 6/20\n",
      "\u001b[1m363/363\u001b[0m \u001b[32m━━━━━━━━━━━━━━━━━━━━\u001b[0m\u001b[37m\u001b[0m \u001b[1m0s\u001b[0m 1ms/step - RootMeanSquaredError: 1.2263 - loss: 1.5357 - val_RootMeanSquaredError: 7.7842 - val_loss: 60.5934\n",
      "Epoch 7/20\n",
      "\u001b[1m363/363\u001b[0m \u001b[32m━━━━━━━━━━━━━━━━━━━━\u001b[0m\u001b[37m\u001b[0m \u001b[1m0s\u001b[0m 988us/step - RootMeanSquaredError: 1.1364 - loss: 1.3156 - val_RootMeanSquaredError: 6.6950 - val_loss: 44.8229\n",
      "Epoch 8/20\n",
      "\u001b[1m363/363\u001b[0m \u001b[32m━━━━━━━━━━━━━━━━━━━━\u001b[0m\u001b[37m\u001b[0m \u001b[1m0s\u001b[0m 988us/step - RootMeanSquaredError: 1.0486 - loss: 1.1081 - val_RootMeanSquaredError: 5.6728 - val_loss: 32.1808\n",
      "Epoch 9/20\n",
      "\u001b[1m363/363\u001b[0m \u001b[32m━━━━━━━━━━━━━━━━━━━━\u001b[0m\u001b[37m\u001b[0m \u001b[1m0s\u001b[0m 998us/step - RootMeanSquaredError: 1.0188 - loss: 1.0466 - val_RootMeanSquaredError: 4.7339 - val_loss: 22.4094\n",
      "Epoch 10/20\n",
      "\u001b[1m363/363\u001b[0m \u001b[32m━━━━━━━━━━━━━━━━━━━━\u001b[0m\u001b[37m\u001b[0m \u001b[1m0s\u001b[0m 969us/step - RootMeanSquaredError: 0.9584 - loss: 0.9214 - val_RootMeanSquaredError: 3.9133 - val_loss: 15.3142\n",
      "Epoch 11/20\n",
      "\u001b[1m363/363\u001b[0m \u001b[32m━━━━━━━━━━━━━━━━━━━━\u001b[0m\u001b[37m\u001b[0m \u001b[1m0s\u001b[0m 989us/step - RootMeanSquaredError: 0.9036 - loss: 0.8168 - val_RootMeanSquaredError: 3.2180 - val_loss: 10.3554\n",
      "Epoch 12/20\n",
      "\u001b[1m363/363\u001b[0m \u001b[32m━━━━━━━━━━━━━━━━━━━━\u001b[0m\u001b[37m\u001b[0m \u001b[1m0s\u001b[0m 1ms/step - RootMeanSquaredError: 0.8940 - loss: 0.7995 - val_RootMeanSquaredError: 2.6714 - val_loss: 7.1362\n",
      "Epoch 13/20\n",
      "\u001b[1m363/363\u001b[0m \u001b[32m━━━━━━━━━━━━━━━━━━━━\u001b[0m\u001b[37m\u001b[0m \u001b[1m0s\u001b[0m 1ms/step - RootMeanSquaredError: 0.9756 - loss: 0.9531 - val_RootMeanSquaredError: 2.2724 - val_loss: 5.1636\n",
      "Epoch 14/20\n",
      "\u001b[1m363/363\u001b[0m \u001b[32m━━━━━━━━━━━━━━━━━━━━\u001b[0m\u001b[37m\u001b[0m \u001b[1m0s\u001b[0m 988us/step - RootMeanSquaredError: 0.9971 - loss: 0.9992 - val_RootMeanSquaredError: 2.0833 - val_loss: 4.3401\n",
      "Epoch 15/20\n",
      "\u001b[1m363/363\u001b[0m \u001b[32m━━━━━━━━━━━━━━━━━━━━\u001b[0m\u001b[37m\u001b[0m \u001b[1m0s\u001b[0m 1ms/step - RootMeanSquaredError: 0.9919 - loss: 0.9905 - val_RootMeanSquaredError: 2.2558 - val_loss: 5.0888\n",
      "Epoch 16/20\n",
      "\u001b[1m363/363\u001b[0m \u001b[32m━━━━━━━━━━━━━━━━━━━━\u001b[0m\u001b[37m\u001b[0m \u001b[1m0s\u001b[0m 977us/step - RootMeanSquaredError: 1.0314 - loss: 1.0712 - val_RootMeanSquaredError: 1.9443 - val_loss: 3.7805\n",
      "Epoch 17/20\n",
      "\u001b[1m363/363\u001b[0m \u001b[32m━━━━━━━━━━━━━━━━━━━━\u001b[0m\u001b[37m\u001b[0m \u001b[1m0s\u001b[0m 945us/step - RootMeanSquaredError: 0.9496 - loss: 0.9035 - val_RootMeanSquaredError: 2.4768 - val_loss: 6.1343\n",
      "Epoch 18/20\n",
      "\u001b[1m363/363\u001b[0m \u001b[32m━━━━━━━━━━━━━━━━━━━━\u001b[0m\u001b[37m\u001b[0m \u001b[1m0s\u001b[0m 979us/step - RootMeanSquaredError: 1.3026 - loss: 1.7384 - val_RootMeanSquaredError: 2.3679 - val_loss: 5.6067\n",
      "Epoch 19/20\n",
      "\u001b[1m363/363\u001b[0m \u001b[32m━━━━━━━━━━━━━━━━━━━━\u001b[0m\u001b[37m\u001b[0m \u001b[1m0s\u001b[0m 965us/step - RootMeanSquaredError: 1.4613 - loss: 2.2241 - val_RootMeanSquaredError: 2.0035 - val_loss: 4.0142\n",
      "Epoch 20/20\n",
      "\u001b[1m363/363\u001b[0m \u001b[32m━━━━━━━━━━━━━━━━━━━━\u001b[0m\u001b[37m\u001b[0m \u001b[1m0s\u001b[0m 1ms/step - RootMeanSquaredError: 1.0357 - loss: 1.0998 - val_RootMeanSquaredError: 2.1053 - val_loss: 4.4321\n"
     ]
    }
   ],
   "source": [
    "history = model.fit(X_train, y_train, epochs=20, validation_data=(X_valid, y_valid))"
   ]
  },
  {
   "cell_type": "markdown",
   "id": "1014b248-42b9-48ab-9f40-7aec729dfdfb",
   "metadata": {},
   "source": [
    "#### Evaluate the model's performance on testing data"
   ]
  },
  {
   "cell_type": "code",
   "execution_count": 42,
   "id": "4f1e604d-dc9e-43ed-8ec7-065df09f0692",
   "metadata": {},
   "outputs": [
    {
     "name": "stdout",
     "output_type": "stream",
     "text": [
      "\u001b[1m162/162\u001b[0m \u001b[32m━━━━━━━━━━━━━━━━━━━━\u001b[0m\u001b[37m\u001b[0m \u001b[1m0s\u001b[0m 845us/step - RootMeanSquaredError: 1.3568 - loss: 1.8413\n"
     ]
    }
   ],
   "source": [
    "mse_test, rmse_test = model.evaluate(X_test, y_test)"
   ]
  },
  {
   "cell_type": "code",
   "execution_count": 43,
   "id": "497c3c56-8f45-4acd-8882-7d1db962c414",
   "metadata": {},
   "outputs": [
    {
     "name": "stdout",
     "output_type": "stream",
     "text": [
      "1.860201120376587 1.3638919591903687\n"
     ]
    }
   ],
   "source": [
    "print(mse_test, rmse_test)"
   ]
  },
  {
   "cell_type": "markdown",
   "id": "2d209602-fcea-4c02-b67e-2f8834193630",
   "metadata": {},
   "source": [
    "### Type 3 Model : Subset features different paths\n",
    "\n",
    "* Send a subset of the features through the wide path and a different subset (possibly overlapping) through the deep path"
   ]
  },
  {
   "cell_type": "markdown",
   "id": "949f04a3-c554-4307-8033-83c8c646b6a1",
   "metadata": {},
   "source": [
    "#### Defining layers of the model"
   ]
  },
  {
   "cell_type": "code",
   "execution_count": 52,
   "id": "b663c806-dd4e-41cb-b6d0-cce34de9f7fe",
   "metadata": {},
   "outputs": [],
   "source": [
    "input_wide = tf.keras.layers.Input(shape=[5]) # features 0 to 4\n",
    "input_deep = tf.keras.layers.Input(shape=[6]) # features 2 to 7\n",
    "\n",
    "norm_layer_wide = tf.keras.layers.Normalization()\n",
    "norm_layer_deep = tf.keras.layers.Normalization()\n",
    "\n",
    "norm_wide = norm_layer_wide(input_wide)\n",
    "norm_deep = norm_layer_deep(input_deep)\n",
    "\n",
    "hidden1 = tf.keras.layers.Dense(30, activation='relu')(norm_deep)\n",
    "hidden2 = tf.keras.layers.Dense(30, activation='relu')(hidden1)\n",
    "\n",
    "concat = tf.keras.layers.concatenate([norm_wide, hidden2])\n",
    "output = tf.keras.layers.Dense(1)(concat)\n",
    "\n",
    "model = tf.keras.Model(inputs=[input_wide, input_deep], outputs=[output])"
   ]
  },
  {
   "cell_type": "markdown",
   "id": "02c14c1b-2635-4d0d-b0ee-c4c0b66ea5b5",
   "metadata": {},
   "source": [
    "#### Defining the optimizer"
   ]
  },
  {
   "cell_type": "code",
   "execution_count": 53,
   "id": "9bee58e8-c0cc-48a7-9bc7-b7d55cf51e21",
   "metadata": {},
   "outputs": [],
   "source": [
    "optimizer2 = tf.keras.optimizers.Adam(learning_rate=1e-3)"
   ]
  },
  {
   "cell_type": "markdown",
   "id": "3849b280-846e-4e83-b5a5-acb19d9e1a10",
   "metadata": {},
   "source": [
    "#### Compiling the model with training metrics"
   ]
  },
  {
   "cell_type": "code",
   "execution_count": 54,
   "id": "6fb9af75-dcbe-4873-a75a-c52d9dcac629",
   "metadata": {},
   "outputs": [],
   "source": [
    "model.compile(loss=\"mse\", optimizer=optimizer2, metrics=[\"RootMeanSquaredError\"])"
   ]
  },
  {
   "cell_type": "markdown",
   "id": "d0287895-eeff-4d82-a93a-51913f41d970",
   "metadata": {},
   "source": [
    "#### Seperating the datasets"
   ]
  },
  {
   "cell_type": "code",
   "execution_count": 58,
   "id": "0163603a-4f15-4b21-8660-a77c8d11f298",
   "metadata": {},
   "outputs": [],
   "source": [
    "X_train_wide, X_train_deep = X_train[:, :5], X_train[:, 2:]\n",
    "X_valid_wide, X_valid_deep = X_valid[:, :5], X_valid[:, 2:]\n",
    "X_test_wide, X_test_deep = X_test[:, :5], X_test[:, 2:]\n",
    "X_new_wide, X_new_deep = X_test_wide[:3], X_test_deep[:3]"
   ]
  },
  {
   "cell_type": "markdown",
   "id": "5d609a1e-8664-4319-9bc2-b30806fdc579",
   "metadata": {},
   "source": [
    "#### Training the model"
   ]
  },
  {
   "cell_type": "code",
   "execution_count": 56,
   "id": "b732315b-4fb3-4025-acdb-8bdcce014408",
   "metadata": {
    "scrolled": true
   },
   "outputs": [
    {
     "name": "stdout",
     "output_type": "stream",
     "text": [
      "Epoch 1/20\n",
      "\u001b[1m363/363\u001b[0m \u001b[32m━━━━━━━━━━━━━━━━━━━━\u001b[0m\u001b[37m\u001b[0m \u001b[1m1s\u001b[0m 1ms/step - RootMeanSquaredError: 1.4704 - loss: 2.2448 - val_RootMeanSquaredError: 1.4442 - val_loss: 2.0857\n",
      "Epoch 2/20\n",
      "\u001b[1m363/363\u001b[0m \u001b[32m━━━━━━━━━━━━━━━━━━━━\u001b[0m\u001b[37m\u001b[0m \u001b[1m0s\u001b[0m 991us/step - RootMeanSquaredError: 0.7428 - loss: 0.5526 - val_RootMeanSquaredError: 0.8360 - val_loss: 0.6988\n",
      "Epoch 3/20\n",
      "\u001b[1m363/363\u001b[0m \u001b[32m━━━━━━━━━━━━━━━━━━━━\u001b[0m\u001b[37m\u001b[0m \u001b[1m0s\u001b[0m 905us/step - RootMeanSquaredError: 0.6676 - loss: 0.4461 - val_RootMeanSquaredError: 0.6239 - val_loss: 0.3893\n",
      "Epoch 4/20\n",
      "\u001b[1m363/363\u001b[0m \u001b[32m━━━━━━━━━━━━━━━━━━━━\u001b[0m\u001b[37m\u001b[0m \u001b[1m0s\u001b[0m 958us/step - RootMeanSquaredError: 0.6452 - loss: 0.4165 - val_RootMeanSquaredError: 0.6018 - val_loss: 0.3621\n",
      "Epoch 5/20\n",
      "\u001b[1m363/363\u001b[0m \u001b[32m━━━━━━━━━━━━━━━━━━━━\u001b[0m\u001b[37m\u001b[0m \u001b[1m0s\u001b[0m 1ms/step - RootMeanSquaredError: 0.6309 - loss: 0.3983 - val_RootMeanSquaredError: 0.5956 - val_loss: 0.3547\n",
      "Epoch 6/20\n",
      "\u001b[1m363/363\u001b[0m \u001b[32m━━━━━━━━━━━━━━━━━━━━\u001b[0m\u001b[37m\u001b[0m \u001b[1m0s\u001b[0m 1ms/step - RootMeanSquaredError: 0.6214 - loss: 0.3864 - val_RootMeanSquaredError: 0.6294 - val_loss: 0.3961\n",
      "Epoch 7/20\n",
      "\u001b[1m363/363\u001b[0m \u001b[32m━━━━━━━━━━━━━━━━━━━━\u001b[0m\u001b[37m\u001b[0m \u001b[1m0s\u001b[0m 999us/step - RootMeanSquaredError: 0.6138 - loss: 0.3770 - val_RootMeanSquaredError: 0.5915 - val_loss: 0.3499\n",
      "Epoch 8/20\n",
      "\u001b[1m363/363\u001b[0m \u001b[32m━━━━━━━━━━━━━━━━━━━━\u001b[0m\u001b[37m\u001b[0m \u001b[1m0s\u001b[0m 1ms/step - RootMeanSquaredError: 0.6070 - loss: 0.3687 - val_RootMeanSquaredError: 0.6080 - val_loss: 0.3697\n",
      "Epoch 9/20\n",
      "\u001b[1m363/363\u001b[0m \u001b[32m━━━━━━━━━━━━━━━━━━━━\u001b[0m\u001b[37m\u001b[0m \u001b[1m0s\u001b[0m 996us/step - RootMeanSquaredError: 0.6021 - loss: 0.3628 - val_RootMeanSquaredError: 0.5725 - val_loss: 0.3278\n",
      "Epoch 10/20\n",
      "\u001b[1m363/363\u001b[0m \u001b[32m━━━━━━━━━━━━━━━━━━━━\u001b[0m\u001b[37m\u001b[0m \u001b[1m0s\u001b[0m 1ms/step - RootMeanSquaredError: 0.5970 - loss: 0.3566 - val_RootMeanSquaredError: 0.6704 - val_loss: 0.4494\n",
      "Epoch 11/20\n",
      "\u001b[1m363/363\u001b[0m \u001b[32m━━━━━━━━━━━━━━━━━━━━\u001b[0m\u001b[37m\u001b[0m \u001b[1m0s\u001b[0m 1ms/step - RootMeanSquaredError: 0.5933 - loss: 0.3521 - val_RootMeanSquaredError: 0.6333 - val_loss: 0.4011\n",
      "Epoch 12/20\n",
      "\u001b[1m363/363\u001b[0m \u001b[32m━━━━━━━━━━━━━━━━━━━━\u001b[0m\u001b[37m\u001b[0m \u001b[1m0s\u001b[0m 1ms/step - RootMeanSquaredError: 0.5908 - loss: 0.3491 - val_RootMeanSquaredError: 0.8573 - val_loss: 0.7349\n",
      "Epoch 13/20\n",
      "\u001b[1m363/363\u001b[0m \u001b[32m━━━━━━━━━━━━━━━━━━━━\u001b[0m\u001b[37m\u001b[0m \u001b[1m0s\u001b[0m 955us/step - RootMeanSquaredError: 0.5876 - loss: 0.3454 - val_RootMeanSquaredError: 0.7427 - val_loss: 0.5515\n",
      "Epoch 14/20\n",
      "\u001b[1m363/363\u001b[0m \u001b[32m━━━━━━━━━━━━━━━━━━━━\u001b[0m\u001b[37m\u001b[0m \u001b[1m0s\u001b[0m 915us/step - RootMeanSquaredError: 0.5855 - loss: 0.3429 - val_RootMeanSquaredError: 1.1110 - val_loss: 1.2343\n",
      "Epoch 15/20\n",
      "\u001b[1m363/363\u001b[0m \u001b[32m━━━━━━━━━━━━━━━━━━━━\u001b[0m\u001b[37m\u001b[0m \u001b[1m0s\u001b[0m 1ms/step - RootMeanSquaredError: 0.5862 - loss: 0.3438 - val_RootMeanSquaredError: 0.8765 - val_loss: 0.7682\n",
      "Epoch 16/20\n",
      "\u001b[1m363/363\u001b[0m \u001b[32m━━━━━━━━━━━━━━━━━━━━\u001b[0m\u001b[37m\u001b[0m \u001b[1m0s\u001b[0m 1ms/step - RootMeanSquaredError: 0.5816 - loss: 0.3384 - val_RootMeanSquaredError: 1.2828 - val_loss: 1.6457\n",
      "Epoch 17/20\n",
      "\u001b[1m363/363\u001b[0m \u001b[32m━━━━━━━━━━━━━━━━━━━━\u001b[0m\u001b[37m\u001b[0m \u001b[1m0s\u001b[0m 1ms/step - RootMeanSquaredError: 0.5817 - loss: 0.3385 - val_RootMeanSquaredError: 1.1154 - val_loss: 1.2440\n",
      "Epoch 18/20\n",
      "\u001b[1m363/363\u001b[0m \u001b[32m━━━━━━━━━━━━━━━━━━━━\u001b[0m\u001b[37m\u001b[0m \u001b[1m0s\u001b[0m 1ms/step - RootMeanSquaredError: 0.5795 - loss: 0.3359 - val_RootMeanSquaredError: 1.0683 - val_loss: 1.1412\n",
      "Epoch 19/20\n",
      "\u001b[1m363/363\u001b[0m \u001b[32m━━━━━━━━━━━━━━━━━━━━\u001b[0m\u001b[37m\u001b[0m \u001b[1m0s\u001b[0m 1ms/step - RootMeanSquaredError: 0.5771 - loss: 0.3332 - val_RootMeanSquaredError: 0.7588 - val_loss: 0.5758\n",
      "Epoch 20/20\n",
      "\u001b[1m363/363\u001b[0m \u001b[32m━━━━━━━━━━━━━━━━━━━━\u001b[0m\u001b[37m\u001b[0m \u001b[1m0s\u001b[0m 1ms/step - RootMeanSquaredError: 0.5730 - loss: 0.3285 - val_RootMeanSquaredError: 0.7698 - val_loss: 0.5926\n"
     ]
    }
   ],
   "source": [
    "norm_layer_wide.adapt(X_train_wide)\n",
    "norm_layer_deep.adapt(X_train_deep)\n",
    "\n",
    "history = model.fit((X_train_wide, X_train_deep), y_train, epochs=20, validation_data=((X_valid_wide, X_valid_deep), y_valid))"
   ]
  },
  {
   "cell_type": "markdown",
   "id": "f4efcb94-20ae-4246-8078-b490e31300d4",
   "metadata": {},
   "source": [
    "#### Evaluating the model against test dataset"
   ]
  },
  {
   "cell_type": "code",
   "execution_count": 59,
   "id": "9d3c2399-5015-462e-a690-a01f3f367218",
   "metadata": {},
   "outputs": [
    {
     "name": "stdout",
     "output_type": "stream",
     "text": [
      "\u001b[1m162/162\u001b[0m \u001b[32m━━━━━━━━━━━━━━━━━━━━\u001b[0m\u001b[37m\u001b[0m \u001b[1m0s\u001b[0m 574us/step - RootMeanSquaredError: 0.5748 - loss: 0.3305\n",
      "\u001b[1m1/1\u001b[0m \u001b[32m━━━━━━━━━━━━━━━━━━━━\u001b[0m\u001b[37m\u001b[0m \u001b[1m0s\u001b[0m 44ms/step\n"
     ]
    }
   ],
   "source": [
    "mse_test = model.evaluate((X_test_wide, X_test_deep), y_test)\n",
    "y_pred = model.predict((X_new_wide, X_new_deep))"
   ]
  },
  {
   "cell_type": "markdown",
   "id": "31f5cf7f-d574-4bda-8fa2-09c32e11e30e",
   "metadata": {},
   "source": [
    "### Type 4 Model : Seperate Outputs\n",
    "\n",
    "* Extra output is quite easy: connect it to the appropriate layer and add it to the model's list of outputs"
   ]
  },
  {
   "cell_type": "markdown",
   "id": "94af86b6-c7bd-4392-9200-e6b7368b359e",
   "metadata": {},
   "source": [
    "#### Defining the 2 model outputs in output layer"
   ]
  },
  {
   "cell_type": "code",
   "execution_count": 71,
   "id": "522e4f79-c0e2-4ae7-84fa-129c08d1f086",
   "metadata": {},
   "outputs": [],
   "source": [
    "output = tf.keras.layers.Dense(1)(concat)\n",
    "aux_output = tf.keras.layers.Dense(1)(hidden2)\n",
    "\n",
    "model = tf.keras.Model(inputs=[input_wide, input_deep], outputs=[output, aux_output])"
   ]
  },
  {
   "cell_type": "markdown",
   "id": "63eeed0f-d60d-4343-a294-4e26bfa4757d",
   "metadata": {},
   "source": [
    "#### Defining the optimizer"
   ]
  },
  {
   "cell_type": "code",
   "execution_count": 72,
   "id": "dbe2e25d-5f27-4444-b067-a6993c66e52c",
   "metadata": {},
   "outputs": [],
   "source": [
    "optimizer3 = tf.keras.optimizers.Adam(learning_rate=1e-3)"
   ]
  },
  {
   "cell_type": "markdown",
   "id": "398d7ca9-6b31-4fd8-b01b-7b77bd50b905",
   "metadata": {},
   "source": [
    "#### Define the model compilation with training parameters"
   ]
  },
  {
   "cell_type": "code",
   "execution_count": 73,
   "id": "98aa8795-371e-46cf-84fb-eb439e509da2",
   "metadata": {},
   "outputs": [],
   "source": [
    "model.compile(loss=(\"mse\", \"mse\"), loss_weights=(0.9, 0.1), optimizer = optimizer3, metrics=[\"RootMeanSquaredError\", \"RootMeanSquaredError\"])"
   ]
  },
  {
   "cell_type": "markdown",
   "id": "6437287a-fd44-44d2-b7b9-7054524523ce",
   "metadata": {},
   "source": [
    "#### Adapting the training data with normalization layer"
   ]
  },
  {
   "cell_type": "code",
   "execution_count": 74,
   "id": "710199b7-6011-4635-92fc-7c6fb9496e53",
   "metadata": {},
   "outputs": [],
   "source": [
    "norm_layer_wide.adapt(X_train_wide)\n",
    "norm_layer_deep.adapt(X_train_deep)"
   ]
  },
  {
   "cell_type": "markdown",
   "id": "6b20fe6e-2b5b-4998-9ab8-f64d4f6b2c7c",
   "metadata": {},
   "source": [
    "#### Fitting the model"
   ]
  },
  {
   "cell_type": "code",
   "execution_count": 75,
   "id": "3e9663a0-0669-4949-852d-010bcba0e58b",
   "metadata": {
    "scrolled": true
   },
   "outputs": [
    {
     "name": "stdout",
     "output_type": "stream",
     "text": [
      "Epoch 1/20\n",
      "\u001b[1m363/363\u001b[0m \u001b[32m━━━━━━━━━━━━━━━━━━━━\u001b[0m\u001b[37m\u001b[0m \u001b[1m2s\u001b[0m 2ms/step - dense_29_RootMeanSquaredError: 1.4116 - dense_29_loss: 1.8856 - dense_30_RootMeanSquaredError: 1.8370 - dense_30_loss: 0.3484 - loss: 2.2340 - val_dense_29_RootMeanSquaredError: 0.7331 - val_dense_29_loss: 0.4836 - val_dense_30_RootMeanSquaredError: 1.0084 - val_dense_30_loss: 0.1017 - val_loss: 0.5854\n",
      "Epoch 2/20\n",
      "\u001b[1m363/363\u001b[0m \u001b[32m━━━━━━━━━━━━━━━━━━━━\u001b[0m\u001b[37m\u001b[0m \u001b[1m0s\u001b[0m 1ms/step - dense_29_RootMeanSquaredError: 0.7011 - dense_29_loss: 0.4427 - dense_30_RootMeanSquaredError: 0.8633 - dense_30_loss: 0.0746 - loss: 0.5173 - val_dense_29_RootMeanSquaredError: 0.6377 - val_dense_29_loss: 0.3659 - val_dense_30_RootMeanSquaredError: 0.8684 - val_dense_30_loss: 0.0754 - val_loss: 0.4414\n",
      "Epoch 3/20\n",
      "\u001b[1m363/363\u001b[0m \u001b[32m━━━━━━━━━━━━━━━━━━━━\u001b[0m\u001b[37m\u001b[0m \u001b[1m1s\u001b[0m 1ms/step - dense_29_RootMeanSquaredError: 0.6355 - dense_29_loss: 0.3636 - dense_30_RootMeanSquaredError: 0.7202 - dense_30_loss: 0.0519 - loss: 0.4155 - val_dense_29_RootMeanSquaredError: 0.6087 - val_dense_29_loss: 0.3334 - val_dense_30_RootMeanSquaredError: 0.7227 - val_dense_30_loss: 0.0522 - val_loss: 0.3857\n",
      "Epoch 4/20\n",
      "\u001b[1m363/363\u001b[0m \u001b[32m━━━━━━━━━━━━━━━━━━━━\u001b[0m\u001b[37m\u001b[0m \u001b[1m1s\u001b[0m 1ms/step - dense_29_RootMeanSquaredError: 0.6065 - dense_29_loss: 0.3311 - dense_30_RootMeanSquaredError: 0.6699 - dense_30_loss: 0.0449 - loss: 0.3760 - val_dense_29_RootMeanSquaredError: 0.5841 - val_dense_29_loss: 0.3071 - val_dense_30_RootMeanSquaredError: 0.6526 - val_dense_30_loss: 0.0426 - val_loss: 0.3497\n",
      "Epoch 5/20\n",
      "\u001b[1m363/363\u001b[0m \u001b[32m━━━━━━━━━━━━━━━━━━━━\u001b[0m\u001b[37m\u001b[0m \u001b[1m1s\u001b[0m 1ms/step - dense_29_RootMeanSquaredError: 0.5936 - dense_29_loss: 0.3172 - dense_30_RootMeanSquaredError: 0.6485 - dense_30_loss: 0.0421 - loss: 0.3592 - val_dense_29_RootMeanSquaredError: 0.5906 - val_dense_29_loss: 0.3139 - val_dense_30_RootMeanSquaredError: 0.6445 - val_dense_30_loss: 0.0415 - val_loss: 0.3555\n",
      "Epoch 6/20\n",
      "\u001b[1m363/363\u001b[0m \u001b[32m━━━━━━━━━━━━━━━━━━━━\u001b[0m\u001b[37m\u001b[0m \u001b[1m1s\u001b[0m 1ms/step - dense_29_RootMeanSquaredError: 0.5862 - dense_29_loss: 0.3093 - dense_30_RootMeanSquaredError: 0.6372 - dense_30_loss: 0.0406 - loss: 0.3499 - val_dense_29_RootMeanSquaredError: 0.6883 - val_dense_29_loss: 0.4263 - val_dense_30_RootMeanSquaredError: 0.8057 - val_dense_30_loss: 0.0649 - val_loss: 0.4913\n",
      "Epoch 7/20\n",
      "\u001b[1m363/363\u001b[0m \u001b[32m━━━━━━━━━━━━━━━━━━━━\u001b[0m\u001b[37m\u001b[0m \u001b[1m1s\u001b[0m 1ms/step - dense_29_RootMeanSquaredError: 0.5817 - dense_29_loss: 0.3046 - dense_30_RootMeanSquaredError: 0.6302 - dense_30_loss: 0.0397 - loss: 0.3443 - val_dense_29_RootMeanSquaredError: 0.6775 - val_dense_29_loss: 0.4130 - val_dense_30_RootMeanSquaredError: 0.6516 - val_dense_30_loss: 0.0424 - val_loss: 0.4556\n",
      "Epoch 8/20\n",
      "\u001b[1m363/363\u001b[0m \u001b[32m━━━━━━━━━━━━━━━━━━━━\u001b[0m\u001b[37m\u001b[0m \u001b[1m0s\u001b[0m 1ms/step - dense_29_RootMeanSquaredError: 0.5791 - dense_29_loss: 0.3018 - dense_30_RootMeanSquaredError: 0.6240 - dense_30_loss: 0.0390 - loss: 0.3408 - val_dense_29_RootMeanSquaredError: 0.8057 - val_dense_29_loss: 0.5841 - val_dense_30_RootMeanSquaredError: 0.8235 - val_dense_30_loss: 0.0678 - val_loss: 0.6521\n",
      "Epoch 9/20\n",
      "\u001b[1m363/363\u001b[0m \u001b[32m━━━━━━━━━━━━━━━━━━━━\u001b[0m\u001b[37m\u001b[0m \u001b[1m1s\u001b[0m 1ms/step - dense_29_RootMeanSquaredError: 0.5762 - dense_29_loss: 0.2989 - dense_30_RootMeanSquaredError: 0.6193 - dense_30_loss: 0.0384 - loss: 0.3372 - val_dense_29_RootMeanSquaredError: 0.6289 - val_dense_29_loss: 0.3559 - val_dense_30_RootMeanSquaredError: 0.6241 - val_dense_30_loss: 0.0389 - val_loss: 0.3949\n",
      "Epoch 10/20\n",
      "\u001b[1m363/363\u001b[0m \u001b[32m━━━━━━━━━━━━━━━━━━━━\u001b[0m\u001b[37m\u001b[0m \u001b[1m1s\u001b[0m 2ms/step - dense_29_RootMeanSquaredError: 0.5744 - dense_29_loss: 0.2970 - dense_30_RootMeanSquaredError: 0.6154 - dense_30_loss: 0.0379 - loss: 0.3348 - val_dense_29_RootMeanSquaredError: 0.7995 - val_dense_29_loss: 0.5751 - val_dense_30_RootMeanSquaredError: 0.8740 - val_dense_30_loss: 0.0764 - val_loss: 0.6517\n",
      "Epoch 11/20\n",
      "\u001b[1m363/363\u001b[0m \u001b[32m━━━━━━━━━━━━━━━━━━━━\u001b[0m\u001b[37m\u001b[0m \u001b[1m1s\u001b[0m 1ms/step - dense_29_RootMeanSquaredError: 0.5722 - dense_29_loss: 0.2947 - dense_30_RootMeanSquaredError: 0.6129 - dense_30_loss: 0.0376 - loss: 0.3323 - val_dense_29_RootMeanSquaredError: 0.5750 - val_dense_29_loss: 0.2975 - val_dense_30_RootMeanSquaredError: 0.6114 - val_dense_30_loss: 0.0374 - val_loss: 0.3350\n",
      "Epoch 12/20\n",
      "\u001b[1m363/363\u001b[0m \u001b[32m━━━━━━━━━━━━━━━━━━━━\u001b[0m\u001b[37m\u001b[0m \u001b[1m1s\u001b[0m 1ms/step - dense_29_RootMeanSquaredError: 0.5704 - dense_29_loss: 0.2929 - dense_30_RootMeanSquaredError: 0.6089 - dense_30_loss: 0.0371 - loss: 0.3300 - val_dense_29_RootMeanSquaredError: 0.5857 - val_dense_29_loss: 0.3087 - val_dense_30_RootMeanSquaredError: 0.6805 - val_dense_30_loss: 0.0463 - val_loss: 0.3551\n",
      "Epoch 13/20\n",
      "\u001b[1m363/363\u001b[0m \u001b[32m━━━━━━━━━━━━━━━━━━━━\u001b[0m\u001b[37m\u001b[0m \u001b[1m1s\u001b[0m 1ms/step - dense_29_RootMeanSquaredError: 0.5683 - dense_29_loss: 0.2908 - dense_30_RootMeanSquaredError: 0.6068 - dense_30_loss: 0.0368 - loss: 0.3276 - val_dense_29_RootMeanSquaredError: 0.5485 - val_dense_29_loss: 0.2707 - val_dense_30_RootMeanSquaredError: 0.6166 - val_dense_30_loss: 0.0380 - val_loss: 0.3088\n",
      "Epoch 14/20\n",
      "\u001b[1m363/363\u001b[0m \u001b[32m━━━━━━━━━━━━━━━━━━━━\u001b[0m\u001b[37m\u001b[0m \u001b[1m1s\u001b[0m 1ms/step - dense_29_RootMeanSquaredError: 0.5673 - dense_29_loss: 0.2898 - dense_30_RootMeanSquaredError: 0.6040 - dense_30_loss: 0.0365 - loss: 0.3262 - val_dense_29_RootMeanSquaredError: 0.5585 - val_dense_29_loss: 0.2807 - val_dense_30_RootMeanSquaredError: 0.6493 - val_dense_30_loss: 0.0421 - val_loss: 0.3229\n",
      "Epoch 15/20\n",
      "\u001b[1m363/363\u001b[0m \u001b[32m━━━━━━━━━━━━━━━━━━━━\u001b[0m\u001b[37m\u001b[0m \u001b[1m1s\u001b[0m 1ms/step - dense_29_RootMeanSquaredError: 0.5661 - dense_29_loss: 0.2885 - dense_30_RootMeanSquaredError: 0.6023 - dense_30_loss: 0.0363 - loss: 0.3247 - val_dense_29_RootMeanSquaredError: 0.5467 - val_dense_29_loss: 0.2690 - val_dense_30_RootMeanSquaredError: 0.6175 - val_dense_30_loss: 0.0381 - val_loss: 0.3072\n",
      "Epoch 16/20\n",
      "\u001b[1m363/363\u001b[0m \u001b[32m━━━━━━━━━━━━━━━━━━━━\u001b[0m\u001b[37m\u001b[0m \u001b[1m0s\u001b[0m 1ms/step - dense_29_RootMeanSquaredError: 0.5643 - dense_29_loss: 0.2867 - dense_30_RootMeanSquaredError: 0.6007 - dense_30_loss: 0.0361 - loss: 0.3228 - val_dense_29_RootMeanSquaredError: 0.5477 - val_dense_29_loss: 0.2699 - val_dense_30_RootMeanSquaredError: 0.6214 - val_dense_30_loss: 0.0386 - val_loss: 0.3086\n",
      "Epoch 17/20\n",
      "\u001b[1m363/363\u001b[0m \u001b[32m━━━━━━━━━━━━━━━━━━━━\u001b[0m\u001b[37m\u001b[0m \u001b[1m0s\u001b[0m 1ms/step - dense_29_RootMeanSquaredError: 0.5629 - dense_29_loss: 0.2852 - dense_30_RootMeanSquaredError: 0.5984 - dense_30_loss: 0.0358 - loss: 0.3210 - val_dense_29_RootMeanSquaredError: 0.5455 - val_dense_29_loss: 0.2678 - val_dense_30_RootMeanSquaredError: 0.6209 - val_dense_30_loss: 0.0386 - val_loss: 0.3064\n",
      "Epoch 18/20\n",
      "\u001b[1m363/363\u001b[0m \u001b[32m━━━━━━━━━━━━━━━━━━━━\u001b[0m\u001b[37m\u001b[0m \u001b[1m1s\u001b[0m 2ms/step - dense_29_RootMeanSquaredError: 0.5617 - dense_29_loss: 0.2840 - dense_30_RootMeanSquaredError: 0.5972 - dense_30_loss: 0.0357 - loss: 0.3197 - val_dense_29_RootMeanSquaredError: 0.5472 - val_dense_29_loss: 0.2694 - val_dense_30_RootMeanSquaredError: 0.6014 - val_dense_30_loss: 0.0362 - val_loss: 0.3056\n",
      "Epoch 19/20\n",
      "\u001b[1m363/363\u001b[0m \u001b[32m━━━━━━━━━━━━━━━━━━━━\u001b[0m\u001b[37m\u001b[0m \u001b[1m1s\u001b[0m 1ms/step - dense_29_RootMeanSquaredError: 0.5603 - dense_29_loss: 0.2826 - dense_30_RootMeanSquaredError: 0.5961 - dense_30_loss: 0.0355 - loss: 0.3182 - val_dense_29_RootMeanSquaredError: 0.5542 - val_dense_29_loss: 0.2764 - val_dense_30_RootMeanSquaredError: 0.6508 - val_dense_30_loss: 0.0424 - val_loss: 0.3188\n",
      "Epoch 20/20\n",
      "\u001b[1m363/363\u001b[0m \u001b[32m━━━━━━━━━━━━━━━━━━━━\u001b[0m\u001b[37m\u001b[0m \u001b[1m1s\u001b[0m 1ms/step - dense_29_RootMeanSquaredError: 0.5593 - dense_29_loss: 0.2816 - dense_30_RootMeanSquaredError: 0.5947 - dense_30_loss: 0.0354 - loss: 0.3170 - val_dense_29_RootMeanSquaredError: 0.6114 - val_dense_29_loss: 0.3363 - val_dense_30_RootMeanSquaredError: 0.5949 - val_dense_30_loss: 0.0354 - val_loss: 0.3718\n"
     ]
    }
   ],
   "source": [
    "history = model.fit((X_train_wide, X_train_deep), (y_train, y_train), epochs=20, validation_data=((X_valid_wide, X_valid_deep), (y_valid, y_valid)))"
   ]
  },
  {
   "cell_type": "markdown",
   "id": "cf07482e-b0c6-4e05-997e-e76008ebf6bd",
   "metadata": {},
   "source": [
    "#### Evaluating the model performance against testing dataset"
   ]
  },
  {
   "cell_type": "code",
   "execution_count": 76,
   "id": "0d1fc271-7971-4201-83a7-62d118f0b894",
   "metadata": {},
   "outputs": [
    {
     "name": "stdout",
     "output_type": "stream",
     "text": [
      "\u001b[1m162/162\u001b[0m \u001b[32m━━━━━━━━━━━━━━━━━━━━\u001b[0m\u001b[37m\u001b[0m \u001b[1m0s\u001b[0m 935us/step - dense_29_RootMeanSquaredError: 0.5648 - dense_29_loss: 0.2871 - dense_30_RootMeanSquaredError: 0.6071 - dense_30_loss: 0.0369 - loss: 0.3240\n"
     ]
    }
   ],
   "source": [
    "eval_results = model.evaluate((X_test_wide, X_test_deep), (y_test, y_test))\n",
    "\n",
    "weighted_sum_of_losses, main_loss, aux_loss, main_rmse, aux_rmse = eval_results"
   ]
  },
  {
   "cell_type": "code",
   "execution_count": 77,
   "id": "50631180-31d0-4f66-b28e-803dffed2fa9",
   "metadata": {},
   "outputs": [
    {
     "name": "stdout",
     "output_type": "stream",
     "text": [
      "0.32088109850883484 0.28391894698143005 0.036691226065158844 0.5619576573371887 0.6055104732513428\n"
     ]
    }
   ],
   "source": [
    "print(weighted_sum_of_losses, main_loss, aux_loss, main_rmse, aux_rmse)"
   ]
  },
  {
   "cell_type": "markdown",
   "id": "9fb082dc-dee7-4ed6-8ed3-682cf9828fc7",
   "metadata": {},
   "source": [
    "#### Predicting the results using model"
   ]
  },
  {
   "cell_type": "code",
   "execution_count": 78,
   "id": "ee54ba09-cacd-4fdd-9815-b62bcd1e5bcc",
   "metadata": {},
   "outputs": [
    {
     "name": "stdout",
     "output_type": "stream",
     "text": [
      "\u001b[1m1/1\u001b[0m \u001b[32m━━━━━━━━━━━━━━━━━━━━\u001b[0m\u001b[37m\u001b[0m \u001b[1m0s\u001b[0m 65ms/step\n"
     ]
    }
   ],
   "source": [
    "y_pred_main, y_pred_aux = model.predict((X_new_wide, X_new_deep))"
   ]
  },
  {
   "cell_type": "code",
   "execution_count": 79,
   "id": "a5d4b50e-2157-44e8-bd86-e207ddea465d",
   "metadata": {},
   "outputs": [
    {
     "name": "stdout",
     "output_type": "stream",
     "text": [
      "\u001b[1m1/1\u001b[0m \u001b[32m━━━━━━━━━━━━━━━━━━━━\u001b[0m\u001b[37m\u001b[0m \u001b[1m0s\u001b[0m 21ms/step\n"
     ]
    }
   ],
   "source": [
    "y_pred_tuple = model.predict((X_new_wide, X_new_deep))\n",
    "\n",
    "y_pred = dict(zip(model.output_names, y_pred_tuple))"
   ]
  },
  {
   "cell_type": "code",
   "execution_count": 80,
   "id": "74d70d67-fd6d-4735-84a9-c36aa4e234b3",
   "metadata": {},
   "outputs": [
    {
     "data": {
      "text/plain": [
       "{'dense_29': array([[0.49514577],\n",
       "        [1.2503316 ],\n",
       "        [3.6080847 ]], dtype=float32),\n",
       " 'dense_30': array([[0.4965441],\n",
       "        [1.1439607],\n",
       "        [3.5039604]], dtype=float32)}"
      ]
     },
     "execution_count": 80,
     "metadata": {},
     "output_type": "execute_result"
    }
   ],
   "source": [
    "y_pred"
   ]
  }
 ],
 "metadata": {
  "kernelspec": {
   "display_name": "Python 3 (ipykernel)",
   "language": "python",
   "name": "python3"
  },
  "language_info": {
   "codemirror_mode": {
    "name": "ipython",
    "version": 3
   },
   "file_extension": ".py",
   "mimetype": "text/x-python",
   "name": "python",
   "nbconvert_exporter": "python",
   "pygments_lexer": "ipython3",
   "version": "3.12.3"
  }
 },
 "nbformat": 4,
 "nbformat_minor": 5
}
